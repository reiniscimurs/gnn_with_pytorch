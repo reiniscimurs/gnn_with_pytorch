{
  "nbformat": 4,
  "nbformat_minor": 0,
  "metadata": {
    "colab": {
      "name": "02_exercise.ipynb",
      "provenance": [],
      "include_colab_link": true
    },
    "kernelspec": {
      "name": "python3",
      "display_name": "Python 3"
    },
    "language_info": {
      "name": "python"
    }
  },
  "cells": [
    {
      "cell_type": "markdown",
      "metadata": {
        "id": "view-in-github",
        "colab_type": "text"
      },
      "source": [
        "<a href=\"https://colab.research.google.com/github/reiniscimurs/gnn_with_pytorch/blob/main/section_1/02_exercise.ipynb\" target=\"_parent\"><img src=\"https://colab.research.google.com/assets/colab-badge.svg\" alt=\"Open In Colab\"/></a>"
      ]
    },
    {
      "cell_type": "markdown",
      "metadata": {
        "id": "l1iDDDhCGdRk"
      },
      "source": [
        "# Exercise\n",
        "We will practice tensor operations.  "
      ]
    },
    {
      "cell_type": "markdown",
      "source": [
        "## Tensor Operations Between Tensors\n",
        "We will perform operations between tensors 'a' and 'b' in the following code and display the results. 'a' is a 2-dimensional tensor, and 'b' is a 1-dimensional tensor, so broadcasting is necessary."
      ],
      "metadata": {
        "id": "Jc1YsICDjmgv"
      }
    },
    {
      "cell_type": "code",
      "metadata": {
        "id": "vQjm5IIwFzfQ"
      },
      "source": [
        "import torch\n",
        "\n",
        "a = torch.tensor([[11, 12, 13],\n",
        "                  [14, 15, 16]])\n",
        "b = torch.tensor([1, 2, 3])\n",
        "\n",
        "print(\"--- Sum ---\")\n",
        "\n",
        "\n",
        "print(\"--- Difference ---\")\n",
        "\n",
        "\n",
        "print(\"--- Product ---\")\n",
        "\n",
        "\n",
        "print(\"--- Division (Decimal) ---\")\n",
        "\n",
        "\n",
        "print(\"--- Division (Integer) ---\")\n",
        "\n",
        "\n",
        "print(\"--- Remainder ---\")\n"
      ],
      "execution_count": null,
      "outputs": []
    },
    {
      "cell_type": "markdown",
      "metadata": {
        "id": "BEW_lUs3PJCQ"
      },
      "source": [
        "### Answers\n",
        "Here are the solutions."
      ]
    },
    {
      "cell_type": "code",
      "metadata": {
        "id": "imyJ_CUEPNgW"
      },
      "source": [
        "import torch\n",
        "\n",
        "a = torch.tensor([[11, 12, 13],\n",
        "                  [14, 15, 16]])\n",
        "b = torch.tensor([1, 2, 3])\n",
        "\n",
        "print(\"--- Sum ---\")\n",
        "result_sum = a + b\n",
        "print(result_sum)\n",
        "\n",
        "print(\"--- Difference ---\")\n",
        "result_diff = a - b\n",
        "print(result_diff)\n",
        "\n",
        "print(\"--- Product ---\")\n",
        "result_product = a * b\n",
        "print(result_product)\n",
        "\n",
        "print(\"--- Division (Decimal) ---\")\n",
        "result_div_decimal = a.float() / b.float()  # Convert to float for decimal division\n",
        "print(result_div_decimal)\n",
        "\n",
        "print(\"--- Division (Integer) ---\")\n",
        "result_div_integer = a // b  # Integer division\n",
        "print(result_div_integer)\n",
        "\n",
        "print(\"--- Remainder ---\")\n",
        "result_remainder = a % b\n",
        "print(result_remainder)"
      ],
      "execution_count": null,
      "outputs": []
    }
  ]
}