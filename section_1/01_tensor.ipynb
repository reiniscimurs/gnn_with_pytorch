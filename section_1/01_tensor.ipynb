{
  "nbformat": 4,
  "nbformat_minor": 0,
  "metadata": {
    "colab": {
      "name": "01_tensor.ipynb",
      "provenance": [],
      "include_colab_link": true
    },
    "kernelspec": {
      "name": "python3",
      "display_name": "Python 3"
    },
    "language_info": {
      "name": "python"
    }
  },
  "cells": [
    {
      "cell_type": "markdown",
      "metadata": {
        "id": "view-in-github",
        "colab_type": "text"
      },
      "source": [
        "<a href=\"https://colab.research.google.com/github/reiniscimurs/gnn_with_pytorch/blob/main/section_1/01_tensor.ipynb\" target=\"_parent\"><img src=\"https://colab.research.google.com/assets/colab-badge.svg\" alt=\"Open In Colab\"/></a>"
      ]
    },
    {
      "cell_type": "markdown",
      "metadata": {
        "id": "qBeK8bWc4a_9"
      },
      "source": [
        "# Tensor\n",
        "Tensor is the most fundamental data structure in PyTorch. We will see various code snippets for manipulating tensors in Google Colaboratory."
      ]
    },
    {
      "cell_type": "markdown",
      "metadata": {
        "id": "ztIkOM_N5Bu7"
      },
      "source": [
        "## PyTorch Verification\n",
        "Display all installed packages in the environment and confirm that PyTorch is installed under the name 'torch'."
      ]
    },
    {
      "cell_type": "code",
      "metadata": {
        "id": "SLrzxL39qGie"
      },
      "source": [
        "!pip list"
      ],
      "execution_count": null,
      "outputs": []
    },
    {
      "cell_type": "markdown",
      "metadata": {
        "id": "EMC135bx6E3u"
      },
      "source": [
        "## Creating a Tensor\n",
        "The following code generates a tensor from a Python list using the `torch.tensor()` function and also checks its data type using the `type()` function."
      ]
    },
    {
      "cell_type": "code",
      "metadata": {
        "id": "xCg7mgXPqBc8"
      },
      "source": [
        "import torch\n",
        "\n",
        "a = torch.tensor([12,13,14])\n",
        "print(a, type(a))"
      ],
      "execution_count": null,
      "outputs": []
    },
    {
      "cell_type": "markdown",
      "metadata": {
        "id": "6LcfIq4nWfG2"
      },
      "source": [
        "The following are alternative methods of creating tensors."
      ]
    },
    {
      "cell_type": "code",
      "metadata": {
        "id": "3X2TN2rYtCTO"
      },
      "source": [
        "print(\"--- Generating from a 2D list ---\")\n",
        "b = torch.tensor([[11, 12],\n",
        "                  [13, 14]])\n",
        "print(b)\n",
        "\n",
        "print(\"--- Specifying dtype as double precision ---\")\n",
        "c = torch.tensor([[11, 12],\n",
        "                  [13, 14]], dtype=torch.float64)\n",
        "print(c)\n",
        "\n",
        "print(\"--- Initializing with values from 0 to 19 ---\")\n",
        "d = torch.arange(0, 20)\n",
        "print(d)\n",
        "\n",
        "print(\"--- Creating a 3x4 Tensor with all zeros ---\")\n",
        "e = torch.zeros(3, 4)\n",
        "print(e)\n",
        "\n",
        "print(\"--- Creating a 3x4 Tensor with random values ---\")\n",
        "f = torch.rand(3, 4)\n",
        "print(f)\n",
        "\n",
        "print(\"--- Getting the shape with the size() method ---\")\n",
        "print(f.size())"
      ],
      "execution_count": null,
      "outputs": []
    },
    {
      "cell_type": "markdown",
      "metadata": {
        "id": "b-TrDK5qewJp"
      },
      "source": [
        "## Conversion Between Tensors and NumPy Arrays\n",
        "In machine learning, NumPy arrays, a numerical computing library, are frequently used. Below is code for converting between Tensors and NumPy arrays."
      ]
    },
    {
      "cell_type": "code",
      "metadata": {
        "id": "VdQc9-L5gBFZ"
      },
      "source": [
        "print(\"--- Tensor → NumPy ---\")\n",
        "a = torch.tensor([[11, 12],\n",
        "                  [13, 14]])\n",
        "b = a.numpy()\n",
        "print(b)\n",
        "\n",
        "print(\"--- NumPy → Tensor ---\")\n",
        "c = torch.from_numpy(b)\n",
        "print(c)"
      ],
      "execution_count": null,
      "outputs": []
    },
    {
      "cell_type": "markdown",
      "metadata": {
        "id": "CgpWSmhXnas_"
      },
      "source": [
        "## Accessing by Specifying a Range\n",
        "You can access a portion of a tensor by specifying a range."
      ]
    },
    {
      "cell_type": "code",
      "metadata": {
        "id": "MgWk6RXMoX_l"
      },
      "source": [
        "a = torch.tensor([[11, 12, 13],\n",
        "                  [14, 15, 16]])\n",
        "\n",
        "print(\"--- Specifying two indices ---\")\n",
        "print(a[0, 1])\n",
        "\n",
        "print(\"--- Specifying a range ---\")\n",
        "print(a[1:2, :2])\n",
        "\n",
        "print(\"--- Selecting elements greater than 3 ---\")\n",
        "print(a[a > 3])\n",
        "\n",
        "print(\"--- Modifying an element ---\")\n",
        "a[0, 2] = 11\n",
        "print(a)\n",
        "\n",
        "print(\"--- Modifying elements in a specific dimension ---\")\n",
        "a[:, 1] = 22\n",
        "print(a)"
      ],
      "execution_count": null,
      "outputs": []
    },
    {
      "cell_type": "markdown",
      "metadata": {
        "id": "2HQMM_Fh02of"
      },
      "source": [
        "## Tensor Operations\n",
        "Below are examples of operations between tensors."
      ]
    },
    {
      "cell_type": "code",
      "metadata": {
        "id": "AQ5IsU0Fz-DJ"
      },
      "source": [
        "# Vectors\n",
        "a = torch.tensor([11, 12, 13])\n",
        "b = torch.tensor([14, 15, 16])\n",
        "\n",
        "# Matrices\n",
        "c = torch.tensor([[16, 15, 14],\n",
        "                  [13, 12, 11]])\n",
        "\n",
        "print(\"--- Vector and Scalar Operation ---\")\n",
        "print(a + 3)\n",
        "\n",
        "print(\"--- Vector-Vector Operation ---\")\n",
        "print(a + b)\n",
        "\n",
        "print(\"--- Matrix and Scalar Operation ---\")\n",
        "print(c + 2)\n",
        "\n",
        "print(\"--- Matrix-Vector Operation (Broadcasting) ---\")\n",
        "print(c + a)\n",
        "\n",
        "print(\"--- Matrix-Matrix Operation ---\")\n",
        "print(c + c)"
      ],
      "execution_count": null,
      "outputs": []
    },
    {
      "cell_type": "markdown",
      "source": [
        "Broadcasting is a feature that allows operations between tensors with different shapes as long as certain conditions are met."
      ],
      "metadata": {
        "id": "op7j4u0HR8YY"
      }
    },
    {
      "cell_type": "markdown",
      "metadata": {
        "id": "C1otpuXxCb84"
      },
      "source": [
        "## Reshaping Tensors\n",
        "You can use the `view()` method to reshape tensors as needed."
      ]
    },
    {
      "cell_type": "code",
      "source": [
        "a = torch.tensor([0, 1, 2, 3, 4, 5, 6, 7, 8, 9, 10 ,11])  # 1次元のTensor\n",
        "b = a.view(3, 4)  # (3, 4)の2次元のTensorに変換\n",
        "print(b)"
      ],
      "metadata": {
        "id": "-4lOt6alFDfZ"
      },
      "execution_count": null,
      "outputs": []
    },
    {
      "cell_type": "markdown",
      "source": [
        "If you set one of the arguments to -1, the size of that dimension will be automatically calculated."
      ],
      "metadata": {
        "id": "UKoNGKogFAW-"
      }
    },
    {
      "cell_type": "code",
      "source": [
        "a = torch.tensor([0, 1, 2, 3, 4, 5, 6, 7, 8, 9, 10, 11])  # 1D Tensor\n",
        "b = a.view(3, 4)  # Reshaped to a 2D Tensor with shape (3, 4)\n",
        "print(b)"
      ],
      "metadata": {
        "id": "zww6M6npGj6D"
      },
      "execution_count": null,
      "outputs": []
    },
    {
      "cell_type": "markdown",
      "source": [
        "If you use -1 as the only argument for `view()`, it will be converted to 1D."
      ],
      "metadata": {
        "id": "aY6BFdhrIhOH"
      }
    },
    {
      "cell_type": "code",
      "source": [
        "e = torch.tensor([[[11, 12],\n",
        "                   [13, 14]],\n",
        "                  [[15, 16],\n",
        "                   [17, 18]]])  # 3D Tensor\n",
        "print(e)\n",
        "f = e.view(-1)  # Reshaped to a 1D Tensor\n",
        "print(f)"
      ],
      "metadata": {
        "id": "m2WviA82IhOI"
      },
      "execution_count": null,
      "outputs": []
    },
    {
      "cell_type": "markdown",
      "metadata": {
        "id": "r0S-nN_c8MKr"
      },
      "source": [
        "## Calculating Statistics\n",
        "Tensors provide various functions and methods for calculating statistics. To retrieve a regular value from a tensor, you can use the `item()` method.\n"
      ]
    },
    {
      "cell_type": "code",
      "metadata": {
        "id": "X_LIWIwI59rI"
      },
      "source": [
        "a = torch.tensor([[11, 12, 13],\n",
        "                  [14, 15, 16.]])\n",
        "\n",
        "print(\"--- Mean (Function) ---\")\n",
        "m = torch.mean(a)\n",
        "print(m.item())  # Retrieve the value using item()\n",
        "\n",
        "print(\"--- Mean (Method) ---\")\n",
        "m = a.mean()\n",
        "print(m.item())\n",
        "\n",
        "print(\"--- Column-wise Mean ---\")\n",
        "print(a.mean(0))\n",
        "\n",
        "print(\"--- Sum ---\")\n",
        "print(torch.sum(a).item())\n",
        "\n",
        "print(\"--- Maximum ---\")\n",
        "print(torch.max(a).item())\n",
        "\n",
        "print(\"--- Minimum ---\")\n",
        "print(torch.min(a).item())"
      ],
      "execution_count": null,
      "outputs": []
    },
    {
      "cell_type": "markdown",
      "source": [
        "We covered only small part of the tensor functionality. For more details, please refer to the official documentation below.  \n",
        "https://pytorch.org/docs/stable/tensors.html"
      ],
      "metadata": {
        "id": "jYlvxRRcDqTa"
      }
    }
  ]
}