{
  "nbformat": 4,
  "nbformat_minor": 0,
  "metadata": {
    "colab": {
      "provenance": [],
      "include_colab_link": true
    },
    "kernelspec": {
      "name": "python3",
      "display_name": "Python 3"
    }
  },
  "cells": [
    {
      "cell_type": "markdown",
      "metadata": {
        "id": "view-in-github",
        "colab_type": "text"
      },
      "source": [
        "<a href=\"https://colab.research.google.com/github/reiniscimurs/gnn_with_pytorch/blob/main/python_basic/python_basic_2.ipynb\" target=\"_parent\"><img src=\"https://colab.research.google.com/assets/colab-badge.svg\" alt=\"Open In Colab\"/></a>"
      ]
    },
    {
      "cell_type": "markdown",
      "metadata": {
        "id": "QK1qtAbx7DCH"
      },
      "source": [
        "# Python Basics 2\n",
        "We will continue to learn about lists, branching, loops, and more."
      ]
    },
    {
      "cell_type": "markdown",
      "metadata": {
        "id": "BBT3UlBN7DCX"
      },
      "source": [
        "## ●Lists\n",
        "Lists are used when you want to handle multiple values together. Lists are enclosed in square brackets \"[ ]\", and each element is separated by commas \",\"."
      ]
    },
    {
      "cell_type": "code",
      "metadata": {
        "id": "Qi_hyR077DCY"
      },
      "source": [
        "a = [2011, 2012, 2013, 2014, 2015] # Creating a list\n",
        "\n",
        "print(a[0]) # The element at index 0 (first element)\n",
        "print(a[1]) # The element at index 1 (second element)\n",
        "print(a[2]) # The element at index 2 (third element)"
      ],
      "execution_count": null,
      "outputs": []
    },
    {
      "cell_type": "code",
      "metadata": {
        "id": "8uCyuQHR_4M0"
      },
      "source": [
        "# Practice cell\n"
      ],
      "execution_count": null,
      "outputs": []
    },
    {
      "cell_type": "markdown",
      "metadata": {
        "id": "FsL7GD6p_xL7"
      },
      "source": [
        "In lists, you can retrieve each element by writing [ ] immediately after the variable name. Python lists can store any type of value."
      ]
    },
    {
      "cell_type": "code",
      "metadata": {
        "id": "eQyRokhrCutm"
      },
      "source": [
        "b = 2016\n",
        "c = [b, 2017, 20.1, \"Hello\", \"Hi\"]\n",
        "print(c[1:4]) # Range from the first element (inclusive) up to the fourth element (exclusive)"
      ],
      "execution_count": null,
      "outputs": []
    },
    {
      "cell_type": "code",
      "metadata": {
        "id": "GCqOwdJPFAb8"
      },
      "source": [
        "# Practice cell\n"
      ],
      "execution_count": null,
      "outputs": []
    },
    {
      "cell_type": "markdown",
      "metadata": {
        "id": "xTCNxy9IESfE"
      },
      "source": [
        "You can also store lists within a list."
      ]
    },
    {
      "cell_type": "code",
      "metadata": {
        "id": "T1cpxD79GBcu"
      },
      "source": [
        "d = [[2012, 2013, 2014], [2015, 2016, 2017]]\n",
        "print(d[0]) # The element at index 0 from the beginning"
      ],
      "execution_count": null,
      "outputs": []
    },
    {
      "cell_type": "code",
      "metadata": {
        "id": "ScUcc8ycGXrW"
      },
      "source": [
        "# Practice cell\n"
      ],
      "execution_count": null,
      "outputs": []
    },
    {
      "cell_type": "markdown",
      "metadata": {
        "id": "eF1dmMxzQK0-"
      },
      "source": [
        "Lists can be modified after creation, and you can also add elements using **append**."
      ]
    },
    {
      "cell_type": "code",
      "metadata": {
        "id": "QqTepYh6QuMa"
      },
      "source": [
        "e = [\"Py\", 543.21, 79, \"thon\", [2018, 2019, 2020]]\n",
        "print(e)\n",
        "\n",
        "# Modifying an element\n",
        "e[2] = 99\n",
        "print(e)\n",
        "\n",
        "# Adding an element\n",
        "e.append(2021)\n",
        "print(e)"
      ],
      "execution_count": null,
      "outputs": []
    },
    {
      "cell_type": "code",
      "metadata": {
        "id": "XqeoFPxMqNwb"
      },
      "source": [
        "# Practice cell\n"
      ],
      "execution_count": null,
      "outputs": []
    },
    {
      "cell_type": "markdown",
      "metadata": {
        "id": "GeQVpswkLLvU"
      },
      "source": [
        "Lists allow for the efficient handling of many values."
      ]
    },
    {
      "cell_type": "markdown",
      "metadata": {
        "id": "33Tx-KRc7DCZ"
      },
      "source": [
        "## ●Tuples\n",
        "Tuples are used when you want to group multiple values just like lists, but you cannot add, remove, or change elements in them. Tuples are enclosed in parentheses (), and elements are separated by commas.\n",
        "If you don't plan to modify the elements, using tuples is preferable over lists. Below is a comparison of lists and tuples."
      ]
    },
    {
      "cell_type": "code",
      "metadata": {
        "id": "uMW9UFiP7DCa"
      },
      "source": [
        "a = [2012, 2013, 2014]  # List\n",
        "b = (2012, 2013, 2014)  # Tuple\n",
        "\n",
        "print(a)\n",
        "print(b)\n",
        "\n",
        "print(a[1])\n",
        "print(b[1])\n",
        "\n",
        "a[1] = 2016\n",
        "print(a)\n",
        "\n",
        "# b[1] = 2016  # Error occurs\n",
        "# print(b)\n",
        "\n",
        "a.append(2015)\n",
        "print(a)\n",
        "\n",
        "# b.append(2015)  # Error occurs\n",
        "# print(b)"
      ],
      "execution_count": null,
      "outputs": []
    },
    {
      "cell_type": "code",
      "metadata": {
        "id": "htyvMHuSqsEf"
      },
      "source": [
        "# Practice cell\n"
      ],
      "execution_count": null,
      "outputs": []
    },
    {
      "cell_type": "markdown",
      "metadata": {
        "id": "KrLdlqyL7DCc"
      },
      "source": [
        "Changing the elements of a tuple or attempting to add elements to a tuple will result in an error."
      ]
    },
    {
      "cell_type": "markdown",
      "metadata": {
        "id": "NkynT8abLLvF"
      },
      "source": [
        "## ●Dictionary\n",
        "A dictionary stores data as key-value pairs.\n",
        "Below is an example of working with dictionaries in Python.\n",
        "It creates a dictionary with strings as keys and demonstrates getting values, swapping them, and adding elements."
      ]
    },
    {
      "cell_type": "code",
      "metadata": {
        "id": "_Mrxui8mLQ5P"
      },
      "source": [
        "a = {\"Taro\": 1985, \"Hanako\": 1986} # Creating a dictionary\n",
        "print(a[\"Taro\"]) # Getting the value associated with the key \"Taro\"\n",
        "\n",
        "a[\"Hanako\"] = 1987 # Swapping an element\n",
        "print(a)\n",
        "\n",
        "a[\"Jiro\"] = 1989 # Adding an element\n",
        "print(a)"
      ],
      "execution_count": null,
      "outputs": []
    },
    {
      "cell_type": "code",
      "metadata": {
        "id": "srGuibNYsDrJ"
      },
      "source": [
        "# Practice cell\n"
      ],
      "execution_count": null,
      "outputs": []
    },
    {
      "cell_type": "markdown",
      "metadata": {
        "id": "uEXLmC08sxOD"
      },
      "source": [
        "\n",
        "Dictionaries are used when you want to manage multiple values using keys."
      ]
    },
    {
      "cell_type": "markdown",
      "metadata": {
        "id": "vOkphdpi7DCh"
      },
      "source": [
        "## ●*if* Statements\n",
        "You can use *if* statements to perform conditional branching.\n",
        "If the condition on the right side of \"if\" is True, the subsequent code block is executed; otherwise, if it's False, the code block following \"else\" is executed.\n",
        "The following code performs addition if the value of 'a' is 5, and multiplication otherwise.\n"
      ]
    },
    {
      "cell_type": "code",
      "metadata": {
        "id": "tubP_tFRzohW"
      },
      "source": [
        "a = 5\n",
        "\n",
        "if a == 5:  # Since 'a' is equal to 5, the condition on the right is True\n",
        "    print(\"3+4=\")\n",
        "    print(3+4)\n",
        "else:\n",
        "    print(\"3×4=\")\n",
        "    print(3*4)"
      ],
      "execution_count": null,
      "outputs": []
    },
    {
      "cell_type": "code",
      "metadata": {
        "id": "DEzLifnOsXl9"
      },
      "source": [
        "# Practice cell\n"
      ],
      "execution_count": null,
      "outputs": []
    },
    {
      "cell_type": "markdown",
      "metadata": {
        "id": "rr_1KJ0r2Os5"
      },
      "source": [
        "Indentation consisting of multiple spaces is inserted at the beginning of code blocks following *if - else* branching. Typically, four spaces are used for indentation in Python.\n",
        "    \n",
        "When you need to perform three or more branches, you can use **elif**.\n"
      ]
    },
    {
      "cell_type": "code",
      "metadata": {
        "id": "fod0Q-CY1k-8"
      },
      "source": [
        "b = 4\n",
        "\n",
        "if b < 3:\n",
        "    print(\"Hello!\")\n",
        "elif b < 5:  # If the condition on the previous \"if\" is False\n",
        "    print(\"Hi!\")\n",
        "else:  # If the conditions on both \"if\" and \"elif\" are False\n",
        "    print(\"Yeah!\")"
      ],
      "execution_count": null,
      "outputs": []
    },
    {
      "cell_type": "code",
      "metadata": {
        "id": "NzpzGvXBsnoC"
      },
      "source": [
        "# Practice cell\n"
      ],
      "execution_count": null,
      "outputs": []
    },
    {
      "cell_type": "markdown",
      "metadata": {
        "id": "6bf9rfImsqRl"
      },
      "source": [
        "By using **elif** consecutively, it's possible to add even more branches."
      ]
    },
    {
      "cell_type": "code",
      "metadata": {
        "id": "mgzqzezO7DCh"
      },
      "source": [
        "time = 20\n",
        "\n",
        "if time < 12:\n",
        "    print(\"Good morning!\")\n",
        "elif time < 17:\n",
        "    print(\"Good afternoon!\")\n",
        "elif time < 21:\n",
        "    print(\"Good evening!\")\n",
        "else:\n",
        "    print(\"Good night!\")"
      ],
      "execution_count": null,
      "outputs": []
    },
    {
      "cell_type": "code",
      "metadata": {
        "id": "MajMrIr6uYFj"
      },
      "source": [
        "# Practice cell\n"
      ],
      "execution_count": 1,
      "outputs": []
    },
    {
      "cell_type": "markdown",
      "metadata": {
        "id": "4ikn14Eq7DCj"
      },
      "source": [
        "## *●for* Loop\n",
        "You can use a *for* loop to repeatedly execute the same process.\n",
        "The following example demonstrates a loop using a list."
      ]
    },
    {
      "cell_type": "code",
      "metadata": {
        "id": "qf8iaf9V7DCj"
      },
      "source": [
        "a = [2001, 2002, 2003, 2004, 2005]\n",
        "for i in a:  # Each element of list 'a' is assigned to 'i'\n",
        "    print(i + 10)  # Indentation is used at the beginning of the line."
      ],
      "execution_count": null,
      "outputs": []
    },
    {
      "cell_type": "code",
      "metadata": {
        "id": "ydtFlmi62SFw"
      },
      "source": [
        "# Practice cell\n"
      ],
      "execution_count": null,
      "outputs": []
    },
    {
      "cell_type": "markdown",
      "metadata": {
        "id": "QhR-cy3d2T83"
      },
      "source": [
        "Indentation is used at the beginning of lines for the repeated process.\n",
        "  \n",
        "When you want to use consecutive integers within a loop, you can use *range*.\n",
        "In the following example, *i* will contain integers from 0 to 5."
      ]
    },
    {
      "cell_type": "code",
      "metadata": {
        "id": "BS44zQjq2cLy"
      },
      "source": [
        "for i in range(0, 6):  # i will contain integers from 0 up to but not including 6\n",
        "    print(i * 2)"
      ],
      "execution_count": null,
      "outputs": []
    },
    {
      "cell_type": "code",
      "metadata": {
        "id": "d38PRmcY4C-B"
      },
      "source": [
        "# Practice cell\n"
      ],
      "execution_count": null,
      "outputs": []
    },
    {
      "cell_type": "markdown",
      "metadata": {
        "id": "0vD9S7yM4Ova"
      },
      "source": [
        "Using *for* loops allows you to simplify redundant code and make it more concise."
      ]
    },
    {
      "cell_type": "markdown",
      "metadata": {
        "id": "FKQ9lg_NFEoJ"
      },
      "source": [
        "## *●while* Loop\n",
        "\n",
        "To loop while a certain condition is met, you can use the *while* statement."
      ]
    },
    {
      "cell_type": "code",
      "metadata": {
        "id": "vFVOuNokFKV3"
      },
      "source": [
        "print(\"--- Less than 10 ---\")\n",
        "a = 0\n",
        "while a < 10:  # Loop while 'a' is less than 10\n",
        "    print(a)\n",
        "    a += 1  # Increment 'a' by 1\n",
        "\n",
        "print(\"--- Not equal to 10 ---\")\n",
        "b = 0\n",
        "while b != 10:  # Loop while 'b' is not equal to 10\n",
        "    print(b)\n",
        "    b += 1"
      ],
      "execution_count": null,
      "outputs": []
    },
    {
      "cell_type": "code",
      "metadata": {
        "id": "W94f0JFR9p3p"
      },
      "source": [
        "# Practice cell\n"
      ],
      "execution_count": null,
      "outputs": []
    },
    {
      "cell_type": "markdown",
      "metadata": {
        "id": "jdyK90d_GJzn"
      },
      "source": [
        "## ●Combining branching and looping\n",
        "Branching and looping can be combined to execute specific actions within a loop only when certain conditions are met."
      ]
    },
    {
      "cell_type": "code",
      "metadata": {
        "id": "qncEVtHrHNkM"
      },
      "source": [
        "a = []  # Empty list\n",
        "for i in range(0, 10):\n",
        "    if i % 2 == 0:  # If it's even\n",
        "        a.append(i)\n",
        "\n",
        "print(a)"
      ],
      "execution_count": null,
      "outputs": []
    },
    {
      "cell_type": "code",
      "metadata": {
        "id": "bwW7OyfbBiKR"
      },
      "source": [
        "# Practice cell\n"
      ],
      "execution_count": null,
      "outputs": []
    }
  ]
}