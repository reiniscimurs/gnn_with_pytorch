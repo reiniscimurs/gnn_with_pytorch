{
  "nbformat": 4,
  "nbformat_minor": 0,
  "metadata": {
    "colab": {
      "provenance": [],
      "include_colab_link": true
    },
    "kernelspec": {
      "name": "python3",
      "display_name": "Python 3"
    }
  },
  "cells": [
    {
      "cell_type": "markdown",
      "metadata": {
        "id": "view-in-github",
        "colab_type": "text"
      },
      "source": [
        "<a href=\"https://colab.research.google.com/github/reiniscimurs/gnn_with_pytorch/blob/main/python_basic/python_basic_1.ipynb\" target=\"_parent\"><img src=\"https://colab.research.google.com/assets/colab-badge.svg\" alt=\"Open In Colab\"/></a>"
      ]
    },
    {
      "cell_type": "markdown",
      "metadata": {
        "id": "QK1qtAbx7DCH"
      },
      "source": [
        "# Python Basics 1\n",
        "\n",
        "Let's learn the syntax of the Python programming language by active practice. Beneath you'll discover practice code cells for gaining hands-on coding experience. However, please be aware that this explanation does not encompass all aspects of Python."
      ]
    },
    {
      "cell_type": "markdown",
      "metadata": {
        "id": "vShhk5xk7L6w"
      },
      "source": [
        "## ● Variables\n",
        "You can assign values to variables.\n",
        "In the example below, we are assigning the value 123 to the variable \"a\".\n",
        "You can display the value stored in variable \"a\" using print(a)."
      ]
    },
    {
      "cell_type": "code",
      "metadata": {
        "id": "h7HH2NJB7DCJ"
      },
      "source": [
        "a = 123\n",
        "print(a)"
      ],
      "execution_count": null,
      "outputs": []
    },
    {
      "cell_type": "code",
      "metadata": {
        "id": "G2cA1xc4CZ8_"
      },
      "source": [
        "# Practice cell\n"
      ],
      "execution_count": 1,
      "outputs": []
    },
    {
      "cell_type": "markdown",
      "metadata": {
        "id": "PZg4iHpxnAyC"
      },
      "source": [
        "Please note that any text following \"#\" is considered a comment and will not be recognized as part of the program. You can use it for notes and comments.\n",
        "\n",
        "You can also store decimal values in variables. In the following example, we are assigning the decimal value 123.45 to variable \"b\""
      ]
    },
    {
      "cell_type": "code",
      "metadata": {
        "id": "6566lYEEsNJh"
      },
      "source": [
        "b = 123.45\n",
        "print(b)"
      ],
      "execution_count": null,
      "outputs": []
    },
    {
      "cell_type": "code",
      "metadata": {
        "id": "bgMti6leFZn9"
      },
      "source": [
        "# Practice cell\n"
      ],
      "execution_count": null,
      "outputs": []
    },
    {
      "cell_type": "markdown",
      "metadata": {
        "id": "extlg0l1rx2z"
      },
      "source": [
        "\n",
        "You can also place text in variables. Text enclosed in double quotes \"\" or single quotes '' is recognized as a string and can be stored as a value in a variable.  \n"
      ]
    },
    {
      "cell_type": "code",
      "metadata": {
        "id": "yMwbxO3GLIC6"
      },
      "source": [
        "c = \"Hello、Python！\"\n",
        "print(c)"
      ],
      "execution_count": null,
      "outputs": []
    },
    {
      "cell_type": "code",
      "metadata": {
        "id": "p3DojhtkLUYK"
      },
      "source": [
        "# Practice cell\n"
      ],
      "execution_count": null,
      "outputs": []
    },
    {
      "cell_type": "markdown",
      "metadata": {
        "id": "WteivqoSJxEu"
      },
      "source": [
        "In variable names, you can use not only letters but also underscores \"_\" and numbers. However, you cannot start a variable name with a number."
      ]
    },
    {
      "cell_type": "code",
      "metadata": {
        "id": "9-dHbPsYJ_jS"
      },
      "source": [
        "dog_name = \"Pochi\"\n",
        "print(dog_name)\n",
        "\n",
        "number321 = 321\n",
        "print(number321)"
      ],
      "execution_count": null,
      "outputs": []
    },
    {
      "cell_type": "code",
      "metadata": {
        "id": "HYh2U2NKM_GY"
      },
      "source": [
        "# Practice cell\n"
      ],
      "execution_count": null,
      "outputs": []
    },
    {
      "cell_type": "markdown",
      "metadata": {
        "id": "AioPKJ3q7DCU"
      },
      "source": [
        "## ● Arithmetic Operations\n",
        "You can perform various arithmetic operations using different operators."
      ]
    },
    {
      "cell_type": "code",
      "metadata": {
        "id": "hYmGSfid7DCU",
        "colab": {
          "base_uri": "https://localhost:8080/"
        },
        "outputId": "22596c37-d9f6-465d-da96-3c470ff0d33a"
      },
      "source": [
        "a = 7\n",
        "b = 3\n",
        "\n",
        "c = a + b  # Addition\n",
        "print(c)\n",
        "\n",
        "d = a - b  # Subtraction\n",
        "print(d)\n",
        "\n",
        "e = a * b  # Multiplication\n",
        "print(e)\n",
        "\n",
        "f = a / b  # Division (Decimal)\n",
        "print(f)\n",
        "\n",
        "g = a // b  # Division (Integer)\n",
        "print(g)\n",
        "\n",
        "h = a % b  # Modulo\n",
        "print(h)"
      ],
      "execution_count": 2,
      "outputs": [
        {
          "output_type": "stream",
          "name": "stdout",
          "text": [
            "10\n",
            "4\n",
            "21\n",
            "2.3333333333333335\n",
            "2\n",
            "1\n"
          ]
        }
      ]
    },
    {
      "cell_type": "code",
      "metadata": {
        "id": "QmgKAo4dNlA_"
      },
      "source": [
        "# Practice cell\n"
      ],
      "execution_count": null,
      "outputs": []
    },
    {
      "cell_type": "markdown",
      "metadata": {
        "id": "D4BOaxpW7DCW"
      },
      "source": [
        "\n",
        "Here is a summary of the operators used above:\n",
        "\n",
        "||||\n",
        "|:-:|:-:|:--|\n",
        "|| \\+ | Addition |\n",
        "||- | Subtraction |\n",
        "|| * | Multiplication |\n",
        "|| / | Division (Decimal) |\n",
        "|| // | Division (Integer) |\n",
        "|| % | Modulo |\n",
        "||||\n",
        "\n",
        "Additionally, the \"+\" operator can also be used for string concatenation."
      ]
    },
    {
      "cell_type": "code",
      "metadata": {
        "id": "tPQ7XddGQRg1"
      },
      "source": [
        "a = \"Hello\"\n",
        "b = \"World\"\n",
        "\n",
        "c = a + b\n",
        "print(c)"
      ],
      "execution_count": null,
      "outputs": []
    },
    {
      "cell_type": "code",
      "metadata": {
        "id": "5fMSkwA9Qc8F"
      },
      "source": [
        "# Practice cell\n"
      ],
      "execution_count": null,
      "outputs": []
    },
    {
      "cell_type": "markdown",
      "metadata": {
        "id": "Ff52sxFiQ5mG"
      },
      "source": [
        "## ● Boolean Values and Comparison Operators\n",
        "You can assign True or False values to variables. These values are called Boolean values. Boolean values can only be either True or False."
      ]
    },
    {
      "cell_type": "code",
      "metadata": {
        "id": "sUzagn13Q-WJ"
      },
      "source": [
        "a = True\n",
        "b = False\n",
        "\n",
        "print(a)\n",
        "print(b)"
      ],
      "execution_count": null,
      "outputs": []
    },
    {
      "cell_type": "code",
      "metadata": {
        "id": "0y-SCphVbDPa"
      },
      "source": [
        "# Practice cell"
      ],
      "execution_count": null,
      "outputs": []
    },
    {
      "cell_type": "markdown",
      "metadata": {
        "id": "xynAyE7bbIXO"
      },
      "source": [
        "By using comparison operators, you can obtain the result of comparing values as Boolean values. Comparison operators like \">\" and \"<\" compare the values on the left and right side.\n"
      ]
    },
    {
      "cell_type": "code",
      "metadata": {
        "id": "JPnYBd6675IK"
      },
      "source": [
        "c = 3\n",
        "d = 4\n",
        "\n",
        "e = c > d  # Is c greater than d?\n",
        "print(e)\n",
        "\n",
        "f = c < d  # Is c less than d?\n",
        "print(f)\n",
        "\n",
        "g = c >= d  # Is c greater than or equal to d?\n",
        "print(g)\n",
        "\n",
        "h = c <= d  # Is c less than or equal to d?\n",
        "print(h)\n",
        "\n",
        "i = c == d  # Is c equal to d?\n",
        "print(i)\n",
        "\n",
        "j = c != d  # Is c not equal to d?\n",
        "print(j)"
      ],
      "execution_count": null,
      "outputs": []
    },
    {
      "cell_type": "code",
      "metadata": {
        "id": "74vLCh-THt4B"
      },
      "source": [
        "# Practice cell\n"
      ],
      "execution_count": null,
      "outputs": []
    },
    {
      "cell_type": "markdown",
      "metadata": {
        "id": "leSqs4xJ8g7q"
      },
      "source": [
        "Here is a summary of the comparison operators used in Python:\n",
        "\n",
        "||||\n",
        "|:-:|:-:|:--|\n",
        "|| < | Less than |\n",
        "|| > |  Greater than  |\n",
        "|| <= |  Less than or equal to |\n",
        "|| >= | Greater than or equal to |\n",
        "|| == | Equal to |\n",
        "|| != | Not equal to |\n",
        "||||"
      ]
    },
    {
      "cell_type": "markdown",
      "metadata": {
        "id": "D6lMp6KNIiGC"
      },
      "source": [
        "## ● Logical Operators\n",
        "Logical operators allow you to perform operations with Boolean values."
      ]
    },
    {
      "cell_type": "code",
      "metadata": {
        "id": "lEnQDGY6Jmt1"
      },
      "source": [
        "a = 3\n",
        "b = 4\n",
        "c = 5\n",
        "\n",
        "d = a < b and b < c  # True if both are True\n",
        "print(d)\n",
        "\n",
        "e = a < b or b > c  # True if either one is True\n",
        "print(e)\n",
        "\n",
        "f = not a < b  # Inverts the Boolean value\n",
        "print(f)"
      ],
      "execution_count": null,
      "outputs": []
    },
    {
      "cell_type": "code",
      "metadata": {
        "id": "y0qwm9SnM6GZ"
      },
      "source": [
        "# Practice cell\n"
      ],
      "execution_count": null,
      "outputs": []
    },
    {
      "cell_type": "markdown",
      "metadata": {
        "id": "8cfNnbcoMUS-"
      },
      "source": [
        "Here is a summary of the logical operators used in Python:\n",
        "\n",
        "||||\n",
        "|:-:|:-:|:--|\n",
        "|| and | True if both operands are True. |\n",
        "|| or | True if at least one operand is True. |\n",
        "|| not | Inverts the Boolean value. |\n",
        "||||\n",
        "\n",
        "These logical operators allow you to express complex conditions in your code."
      ]
    }
  ]
}