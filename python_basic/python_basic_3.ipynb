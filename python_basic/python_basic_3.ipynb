{
  "nbformat": 4,
  "nbformat_minor": 0,
  "metadata": {
    "colab": {
      "provenance": [],
      "toc_visible": true,
      "include_colab_link": true
    },
    "kernelspec": {
      "name": "python3",
      "display_name": "Python 3"
    }
  },
  "cells": [
    {
      "cell_type": "markdown",
      "metadata": {
        "id": "view-in-github",
        "colab_type": "text"
      },
      "source": [
        "<a href=\"https://colab.research.google.com/github/reiniscimurs/gnn_with_pytorch/blob/main/python_basic/python_basic_3.ipynb\" target=\"_parent\"><img src=\"https://colab.research.google.com/assets/colab-badge.svg\" alt=\"Open In Colab\"/></a>"
      ]
    },
    {
      "cell_type": "markdown",
      "metadata": {
        "id": "ewg_pUrO-m3m"
      },
      "source": [
        "# Python Basics 3\n",
        "We will explain functions, classes, and file saving"
      ]
    },
    {
      "cell_type": "markdown",
      "metadata": {
        "id": "BxlxFRAm-m3o"
      },
      "source": [
        "## ●Functions\n",
        "By using functions, you can encapsulate a set of operations that can be called repeatedly. Below is an example of a simple function."
      ]
    },
    {
      "cell_type": "code",
      "metadata": {
        "id": "xftbx6T4-m3p"
      },
      "source": [
        "def say_hello():  # Write the function name after 'def'\n",
        "    print(\"Hello world!\")  # Indentation is used at the beginning of the line\n",
        "\n",
        "say_hello()  # Call the function"
      ],
      "execution_count": null,
      "outputs": []
    },
    {
      "cell_type": "code",
      "metadata": {
        "id": "wrO8sv-WZHuo"
      },
      "source": [
        "# Practice cell\n"
      ],
      "execution_count": null,
      "outputs": []
    },
    {
      "cell_type": "markdown",
      "metadata": {
        "id": "L8xd1JMv-m3s"
      },
      "source": [
        "Once you define a function, you can call it as many times as you want."
      ]
    },
    {
      "cell_type": "code",
      "metadata": {
        "id": "-Tnd7UjE-m3t"
      },
      "source": [
        "def say_gm():\n",
        "    print(\"Good morning!\")\n",
        "\n",
        "say_gm()\n",
        "say_gm()\n",
        "say_gm()"
      ],
      "execution_count": null,
      "outputs": []
    },
    {
      "cell_type": "code",
      "metadata": {
        "id": "cAZfsS-vZKeC"
      },
      "source": [
        "# Practice cell\n"
      ],
      "execution_count": null,
      "outputs": []
    },
    {
      "cell_type": "markdown",
      "metadata": {
        "id": "MWyBm7xfaQ1T"
      },
      "source": [
        "## ●Arguments\n",
        "Functions can receive values from external sources as arguments.\n",
        "Here is a simple function with arguments."
      ]
    },
    {
      "cell_type": "code",
      "metadata": {
        "id": "utV0XhMAafbt"
      },
      "source": [
        "def say_number(a):  # The arguent is 'a'\n",
        "    print(a)\n",
        "\n",
        "say_number(123)"
      ],
      "execution_count": null,
      "outputs": []
    },
    {
      "cell_type": "code",
      "metadata": {
        "id": "RyOkPsNFaR6o"
      },
      "source": [
        "# Practice cell\n"
      ],
      "execution_count": null,
      "outputs": []
    },
    {
      "cell_type": "markdown",
      "metadata": {
        "id": "Z_01jL1ZgIXO"
      },
      "source": [
        "When calling a function, you pass values inside ( ) and the function receives them.\n",
        "\n",
        "If there are multiple arguments, you separate them with commas ' , '."
      ]
    },
    {
      "cell_type": "code",
      "metadata": {
        "id": "zPN48d8gfq0Z"
      },
      "source": [
        "def add(a, b, c):  # Here, there are three arguments\n",
        "    d = a + b + c\n",
        "    print(d)\n",
        "\n",
        "add(3, 4, 5)"
      ],
      "execution_count": null,
      "outputs": []
    },
    {
      "cell_type": "code",
      "metadata": {
        "id": "eq9RMuApiHjv"
      },
      "source": [
        "# Practice cell\n"
      ],
      "execution_count": null,
      "outputs": []
    },
    {
      "cell_type": "markdown",
      "metadata": {
        "id": "rmu22GA5hOHQ"
      },
      "source": [
        "## ●Return Value\n",
        "Using a return value allows you to pass a value from a function to the external code.\n",
        "\n",
        "Below is a simple example of a return value.  "
      ]
    },
    {
      "cell_type": "code",
      "metadata": {
        "id": "PuaerkxqhhnY"
      },
      "source": [
        "def get_number():\n",
        "    a = 123\n",
        "    return a  # The return value\n",
        "\n",
        "b = get_number()\n",
        "print(b)"
      ],
      "execution_count": null,
      "outputs": []
    },
    {
      "cell_type": "code",
      "metadata": {
        "id": "4rKMXPTFmH6S"
      },
      "source": [
        "# Practice cell\n"
      ],
      "execution_count": 1,
      "outputs": []
    },
    {
      "cell_type": "markdown",
      "metadata": {
        "id": "FwOzg6qyiBSB"
      },
      "source": [
        "When you include a return statement inside a function, it passes the immediately following value to the external code.\n",
        "\n",
        "Below is an example that combines arguments and return values."
      ]
    },
    {
      "cell_type": "code",
      "metadata": {
        "id": "27VGeUNmifwo"
      },
      "source": [
        "def add(a, b):\n",
        "    c = a + b\n",
        "    return c\n",
        "\n",
        "result1 = add(3, 4)\n",
        "print(result1)\n",
        "\n",
        "result2 = add(7, 8)\n",
        "print(result2)"
      ],
      "execution_count": null,
      "outputs": []
    },
    {
      "cell_type": "code",
      "metadata": {
        "id": "dDfU9UZDmwxg"
      },
      "source": [
        "# Practice cell\n"
      ],
      "execution_count": null,
      "outputs": []
    },
    {
      "cell_type": "markdown",
      "metadata": {
        "id": "DtAbWNWw-m3y"
      },
      "source": [
        "## ●The scope of variables\n",
        "Variables defined within a function are called local variables, while variables defined outside of a function are called global variables."
      ]
    },
    {
      "cell_type": "code",
      "metadata": {
        "id": "3pD2XU7t-m3y"
      },
      "source": [
        "glob_1 = 123  # Global variable\n",
        "\n",
        "def show_number():\n",
        "    loc_1 = 456  # Local variable\n",
        "    print(glob_1, loc_1)\n",
        "\n",
        "show_number()"
      ],
      "execution_count": null,
      "outputs": []
    },
    {
      "cell_type": "code",
      "metadata": {
        "id": "39Zt6NeVtHiK"
      },
      "source": [
        "# Practice cell\n"
      ],
      "execution_count": null,
      "outputs": []
    },
    {
      "cell_type": "markdown",
      "metadata": {
        "id": "j4BL7N5d-m30"
      },
      "source": [
        "Local variables can only be accessed from within the same function, while global variables can be accessed from anywhere.\n",
        "\n",
        "In the following code, there will be an error because we are trying to access the local variable 'b' from outside the function."
      ]
    },
    {
      "cell_type": "code",
      "metadata": {
        "id": "7KOGz1gM-m31"
      },
      "source": [
        "glob_2= 123 # Global variable\n",
        "\n",
        "def setNum():\n",
        "    loc_2 = 456 # Local variable\n",
        "\n",
        "setNum()\n",
        "print(glob_2, loc_2)"
      ],
      "execution_count": null,
      "outputs": []
    },
    {
      "cell_type": "code",
      "metadata": {
        "id": "f5wYs01szjlc"
      },
      "source": [
        "# Practice cell\n"
      ],
      "execution_count": null,
      "outputs": []
    },
    {
      "cell_type": "markdown",
      "metadata": {
        "id": "zG9VcO-6-m35"
      },
      "source": [
        "## ●Classes\n",
        "Classes allow you to encapsulate multiple 'function-like' entities together. These 'function-like' entities are called methods.\n",
        "\n",
        "To define a class in Python, you use the 'class' keyword. Methods are defined within the class, and like functions, you write the method name immediately after 'def.'\n",
        "\n",
        "In the example below, there is an 'add' method defined within the 'Calc' class. You can create an instance from the class and call methods from this instance."
      ]
    },
    {
      "cell_type": "code",
      "metadata": {
        "id": "h9YW6LdV-m36"
      },
      "source": [
        "class Calc:  # Calc class\n",
        "    def add(self, a, b):  # add method\n",
        "        print(a + b)\n",
        "\n",
        "    def multiply(self, a, b):  # multiply method\n",
        "        print(a * b)\n",
        "\n",
        "cl = Calc()  # Create an instance cl\n",
        "cl.add(2, 3)\n",
        "cl.multiply(4, 5)"
      ],
      "execution_count": null,
      "outputs": []
    },
    {
      "cell_type": "code",
      "metadata": {
        "id": "s-haa7_RkFGS"
      },
      "source": [
        "# Practice cell\n"
      ],
      "execution_count": null,
      "outputs": []
    },
    {
      "cell_type": "markdown",
      "metadata": {
        "id": "f83MEU1X-m38"
      },
      "source": [
        "Unlike functions, methods need to have 'self' as their first parameter.\n",
        "\n",
        "Using 'self,' instances can store values. Variables that hold values within an instance are called instance variables. In the example below, we are setting instance variables within the 'set_number' method."
      ]
    },
    {
      "cell_type": "code",
      "metadata": {
        "id": "9le-T7MT-m39"
      },
      "source": [
        "class Box:\n",
        "    def set_number(self, n1, n2):\n",
        "        self.num1 = n1  # num1 is an instance variable\n",
        "        self.num2 = n2\n",
        "\n",
        "bx = Box()\n",
        "bx.set_number(123, 456)\n",
        "\n",
        "print(bx.num1)  # Display the value of instance variables\n",
        "print(bx.num2)\n",
        "\n",
        "bx.num1 = 999  # Change the value\n",
        "print(bx.num1)"
      ],
      "execution_count": null,
      "outputs": []
    },
    {
      "cell_type": "code",
      "metadata": {
        "id": "jHLWfjHLnefH"
      },
      "source": [
        "# Practice cell\n"
      ],
      "execution_count": null,
      "outputs": []
    },
    {
      "cell_type": "markdown",
      "metadata": {
        "id": "ZHSv1Cbd-m3-"
      },
      "source": [
        "Instance variables can be set to different values for each instance. In the example below, two instances, dog1 and dog2, are created from the Dog class, and different values are assigned to their instance variables. These instances are then stored in a list, and their values are displayed in a loop."
      ]
    },
    {
      "cell_type": "code",
      "metadata": {
        "id": "b-oYXKYp-m3_"
      },
      "source": [
        "class Dog:\n",
        "    def set_dog(self, n, a):\n",
        "        self.name = n\n",
        "        self.age = a\n",
        "\n",
        "dog1 = Dog()\n",
        "dog1.set_dog(\"Pochi\", 5)\n",
        "\n",
        "dog2 = Dog()\n",
        "dog2.set_dog(\"Hachi\", 12)\n",
        "\n",
        "dogs = [dog1, dog2]  # Store in a list\n",
        "for d in dogs:\n",
        "    print(d.name, d.age)"
      ],
      "execution_count": null,
      "outputs": []
    },
    {
      "cell_type": "code",
      "metadata": {
        "id": "oLVA4jq1tCM2"
      },
      "source": [
        "# Practice cell\n"
      ],
      "execution_count": null,
      "outputs": []
    },
    {
      "cell_type": "markdown",
      "metadata": {
        "id": "VWXp1IvK7e45"
      },
      "source": [
        "Using classes allows you to write complex processes with concise code."
      ]
    },
    {
      "cell_type": "markdown",
      "metadata": {
        "id": "iI06xAN-W94U"
      },
      "source": [
        "## ●File Saving and Reading\n",
        "You can use the 'with' statement to succinctly read and save files. Below is an example of saving a string to a file. The saved file can be checked in the sidebar."
      ]
    },
    {
      "cell_type": "code",
      "metadata": {
        "id": "vC8DP5nV93TP"
      },
      "source": [
        "greetings = \"Good morning! Good night!\"\n",
        "\n",
        "with open(\"greetings.txt\", \"w\") as f:\n",
        "    f.write(greetings)  # Save to a file"
      ],
      "execution_count": null,
      "outputs": []
    },
    {
      "cell_type": "code",
      "metadata": {
        "id": "FwhBtEkI_OBl"
      },
      "source": [
        "# Practice cell\n"
      ],
      "execution_count": null,
      "outputs": []
    },
    {
      "cell_type": "markdown",
      "metadata": {
        "id": "Tjp3EXIBXsXc"
      },
      "source": [
        "Below is an example of reading the previously saved file and displaying its contents."
      ]
    },
    {
      "cell_type": "code",
      "metadata": {
        "id": "APsIqyhbVXZb"
      },
      "source": [
        "with open(\"greetings.txt\", \"r\") as f:\n",
        "    print(f.read())  # Read a file"
      ],
      "execution_count": null,
      "outputs": []
    },
    {
      "cell_type": "code",
      "metadata": {
        "id": "EEvkDyzO_SXP"
      },
      "source": [
        "# Practice cell\n"
      ],
      "execution_count": null,
      "outputs": []
    }
  ]
}