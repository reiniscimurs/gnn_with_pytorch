{
  "nbformat": 4,
  "nbformat_minor": 0,
  "metadata": {
    "colab": {
      "provenance": [],
      "include_colab_link": true
    },
    "kernelspec": {
      "name": "python3",
      "display_name": "Python 3"
    }
  },
  "cells": [
    {
      "cell_type": "markdown",
      "metadata": {
        "id": "view-in-github",
        "colab_type": "text"
      },
      "source": [
        "<a href=\"https://colab.research.google.com/github/reiniscimurs/gnn_with_pytorch/blob/main/python_basic/python_basic_4.ipynb\" target=\"_parent\"><img src=\"https://colab.research.google.com/assets/colab-badge.svg\" alt=\"Open In Colab\"/></a>"
      ]
    },
    {
      "cell_type": "markdown",
      "metadata": {
        "id": "ewg_pUrO-m3m"
      },
      "source": [
        "# Python Basics 4\n",
        "We will explain Python's special methods. By utilizing these methods, you can write shorter and more readable code."
      ]
    },
    {
      "cell_type": "markdown",
      "metadata": {
        "id": "BxlxFRAm-m3o"
      },
      "source": [
        "## ●`__init__` Method\n",
        "The `__init__` method is a special method known as an initializer or constructor. This method allows you to perform initial setup of an instance when it is created. In the following class, the `__init__` method is used to initialize the instance variable 'a'.  "
      ]
    },
    {
      "cell_type": "code",
      "metadata": {
        "id": "xftbx6T4-m3p"
      },
      "source": [
        "class Calc:  # Calc class\n",
        "    def __init__(self, a):  # __init__ method\n",
        "        self.a = a\n",
        "\n",
        "    def add(self, b):  # add method\n",
        "        print(self.a + b)\n",
        "\n",
        "    def multiply(self, b):  # multiply method\n",
        "        print(self.a * b)"
      ],
      "execution_count": null,
      "outputs": []
    },
    {
      "cell_type": "code",
      "metadata": {
        "id": "wrO8sv-WZHuo"
      },
      "source": [
        "# Practice Cell\n"
      ],
      "execution_count": null,
      "outputs": []
    },
    {
      "cell_type": "markdown",
      "metadata": {
        "id": "L8xd1JMv-m3s"
      },
      "source": [
        "In the following code, when an instance is created, the value 3 is passed to the instance during its initialization. This stored value can be used for calculations later."
      ]
    },
    {
      "cell_type": "code",
      "metadata": {
        "id": "-Tnd7UjE-m3t"
      },
      "source": [
        "cl = Calc(3)  # Create an instance cl with the value 3\n",
        "cl.add(4)     # 3 + 4\n",
        "cl.multiply(4) # 3 × 4"
      ],
      "execution_count": null,
      "outputs": []
    },
    {
      "cell_type": "code",
      "metadata": {
        "id": "cAZfsS-vZKeC"
      },
      "source": [
        "# Practice Cell\n"
      ],
      "execution_count": null,
      "outputs": []
    },
    {
      "cell_type": "markdown",
      "metadata": {
        "id": "jH5DBIKLMpTn"
      },
      "source": [
        "By using the `__init__` method, you can pass values to instances when they are created. Therefore, if you have values that need to be used repeatedly or across multiple methods"
      ]
    },
    {
      "cell_type": "markdown",
      "metadata": {
        "id": "5iaX234BO1_c"
      },
      "source": [
        "## ●`__call__` Method\n",
        "The `__call__` method allows you to call instances using the instance name. In the following code, in addition to the `__init__` method, the `__call__` method is implemented in the Calc class."
      ]
    },
    {
      "cell_type": "code",
      "metadata": {
        "id": "_7Ct9UGnO1_p"
      },
      "source": [
        "class Calc:  # Calc class\n",
        "    def __init__(self, a):  # __init__ method\n",
        "        self.a = a\n",
        "\n",
        "    def __call__(self, c):  # __call__ method\n",
        "        print(self.a * c + c)\n",
        "\n",
        "    def add(self, b):  # add method\n",
        "        print(self.a + b)\n",
        "\n",
        "    def multiply(self, b):  # multiply method\n",
        "        print(self.a * b)"
      ],
      "execution_count": null,
      "outputs": []
    },
    {
      "cell_type": "code",
      "metadata": {
        "id": "8t66JIKtO1_q"
      },
      "source": [
        "# Practice Cell\n"
      ],
      "execution_count": null,
      "outputs": []
    },
    {
      "cell_type": "markdown",
      "metadata": {
        "id": "zk0O973kRR88"
      },
      "source": [
        "In the following code, the instance named 'cl' is used to call the `__call__` method."
      ]
    },
    {
      "cell_type": "code",
      "metadata": {
        "id": "TJnm8GNxRR9I"
      },
      "source": [
        "cl = Calc(3)  # Create an instance cl\n",
        "\n",
        "# Call the __call__ method using the instance name cl\n",
        "cl(5)  # 3 × 5 + 5"
      ],
      "execution_count": null,
      "outputs": []
    },
    {
      "cell_type": "code",
      "metadata": {
        "id": "JXfHeV4ORR9J"
      },
      "source": [
        "# Practice Cell\n"
      ],
      "execution_count": null,
      "outputs": []
    },
    {
      "cell_type": "markdown",
      "metadata": {
        "id": "5Vw5ZL6xRR9J"
      },
      "source": [
        "Using the `__call__` method eliminates the need to specify the method name. By placing frequently used operations within the `__call__` method, you can reduce the amount of code you need to write."
      ]
    }
  ]
}