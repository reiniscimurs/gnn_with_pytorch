{
  "cells": [
    {
      "cell_type": "markdown",
      "metadata": {
        "id": "view-in-github",
        "colab_type": "text"
      },
      "source": [
        "<a href=\"https://colab.research.google.com/github/reiniscimurs/gnn_with_pytorch/blob/main/section_5/01_gat.ipynb\" target=\"_parent\"><img src=\"https://colab.research.google.com/assets/colab-badge.svg\" alt=\"Open In Colab\"/></a>"
      ]
    },
    {
      "cell_type": "markdown",
      "metadata": {
        "id": "qBeK8bWc4a_9"
      },
      "source": [
        "# GAT Implementation\n",
        "Graph Attention Networks (GAT) Implementation\n",
        "Train the model using a dataset with multiple graphs and mini-batch learning.\n",
        "Utilize GPU for training by selecting \"GPU\" in \"Edit\" -> \"Notebook Settings\" -> \"Hardware Accelerator\".\n"
      ]
    },
    {
      "cell_type": "markdown",
      "metadata": {
        "id": "ztIkOM_N5Bu7"
      },
      "source": [
        "## Install PyTorch Geometric\n",
        "Install the library \"PyTorch Geometric\" for Graph Neural Networks (GNN) along with related libraries."
      ]
    },
    {
      "cell_type": "code",
      "execution_count": null,
      "metadata": {
        "id": "SLrzxL39qGie"
      },
      "outputs": [],
      "source": [
        "!pip install pyg-lib torch-scatter torch-sparse -f https://data.pyg.org/whl/torch-1.13.0+cu116.html\n",
        "!pip install torch-geometric\n",
        "!pip install scipy==1.8.0"
      ]
    },
    {
      "cell_type": "markdown",
      "metadata": {
        "id": "RZeLe5ktmDCG"
      },
      "source": [
        "## Load Dataset\n",
        "Load the dataset \"MUTAG\" containing 188 graphs from TUDataset.\n"
      ]
    },
    {
      "cell_type": "code",
      "execution_count": null,
      "metadata": {
        "id": "BlyKILeKUskH"
      },
      "outputs": [],
      "source": [
        "from torch_geometric.datasets import TUDataset\n",
        "from torch_geometric.loader import DataLoader\n",
        "\n",
        "dataset = TUDataset(root=\"/tmp/MUTAG\", name=\"MUTAG\")\n",
        "\n",
        "dataset = dataset.shuffle()  # Shuffle the dataset\n",
        "dataset_train = dataset[:140]  # Training dataset\n",
        "dataset_test = dataset[140:]  # Test dataset\n",
        "\n",
        "batch_size = 64  # Batch size\n",
        "loader_train = DataLoader(dataset_train, batch_size=batch_size, shuffle=True)\n",
        "loader_test = DataLoader(dataset_test, batch_size=batch_size, shuffle=False)"
      ]
    },
    {
      "cell_type": "markdown",
      "metadata": {
        "id": "Q2s4JTtLh_cO"
      },
      "source": [
        "## Model Construction\n",
        "To implement the GAT layer, use GATConv() to build a simpler GAT model compared to the original paper.\n",
        "\n",
        "\n",
        "```\n",
        "GATConv(input_feature_dimensions, output_feature_dimensions, number_of_multi-head_attentions)\n",
        "```  \n",
        "https://pytorch-geometric.readthedocs.io/en/latest/modules/nn.html#torch_geometric.nn.conv.GATConv  \n",
        "Stack two GATConv layers and introduce \"dropout,\" which randomly removes neurons, before the fully connected layer.\n"
      ]
    },
    {
      "cell_type": "code",
      "execution_count": null,
      "metadata": {
        "id": "EGMeG-bgldbu"
      },
      "outputs": [],
      "source": [
        "import torch\n",
        "import torch.nn as nn\n",
        "from torch_geometric.nn import GATConv\n",
        "from torch_geometric.nn import global_mean_pool\n",
        "\n",
        "n_h = 64  # Number of features in the hidden layer\n",
        "n_head = 32\n",
        "\n",
        "class GAT(nn.Module):\n",
        "    def __init__(self):\n",
        "        super().__init__()\n",
        "        self.gat1 = GATConv(dataset.num_node_features,\n",
        "                            n_h,\n",
        "                            heads=n_head)\n",
        "        self.gat2 = GATConv(n_h * n_head,\n",
        "                            n_h,\n",
        "                            heads=n_head)\n",
        "        self.fc = nn.Linear(n_h * n_head, dataset.num_classes)  # Fully connected layer\n",
        "\n",
        "        self.relu = nn.ReLU()  # ReLU\n",
        "        self.dropout = nn.Dropout(p=0.5)  # Dropout: (p=dropout rate)\n",
        "\n",
        "    def forward(self, data):\n",
        "        x = data.x\n",
        "        edge_index = data.edge_index\n",
        "        batch = data.batch\n",
        "\n",
        "        x = self.gat1(x, edge_index)\n",
        "        x = self.relu(x)\n",
        "        x = self.gat2(x, edge_index)\n",
        "        x = self.relu(x)\n",
        "\n",
        "        # Take the mean of each feature across all nodes\n",
        "        x = global_mean_pool(x, batch)  # Convert to (batch_size, number of features)\n",
        "\n",
        "        x = self.dropout(x)\n",
        "        x = self.fc(x)\n",
        "\n",
        "        return x\n",
        "\n",
        "net = GAT()\n",
        "net.cuda()  # GPU support"
      ]
    },
    {
      "cell_type": "markdown",
      "metadata": {
        "id": "qP9O1HhFikx-"
      },
      "source": [
        "## Training"
      ]
    },
    {
      "cell_type": "markdown",
      "source": [
        "Prepare a function for model evaluation.\n",
        "\n"
      ],
      "metadata": {
        "id": "RvQn3Apg_Ig_"
      }
    },
    {
      "cell_type": "code",
      "source": [
        "def evaluate(loader):\n",
        "    correct = 0  # Number of correct predictions\n",
        "\n",
        "    for data in loader:\n",
        "        data = data.cuda()  # GPU support\n",
        "        out = net(data)\n",
        "        pred = out.argmax(dim=1)\n",
        "        correct += int((pred == data.y).sum())\n",
        "\n",
        "    return correct / len(loader.dataset)  # Accuracy\n"
      ],
      "metadata": {
        "id": "vwqxhW52_Phq"
      },
      "execution_count": null,
      "outputs": []
    },
    {
      "cell_type": "markdown",
      "source": [
        "Train the model using the training data."
      ],
      "metadata": {
        "id": "cLmtIpUR_Olw"
      }
    },
    {
      "cell_type": "code",
      "execution_count": null,
      "metadata": {
        "id": "rfv35TJsnNcZ"
      },
      "outputs": [],
      "source": [
        "from torch import optim\n",
        "\n",
        "# Cross-entropy loss function\n",
        "loss_fnc = nn.CrossEntropyLoss()\n",
        "\n",
        "# Optimization algorithm\n",
        "optimizer = optim.Adam(net.parameters())\n",
        "\n",
        "for epoch in range(200):\n",
        "    # Training\n",
        "    net.train()  # Set to training mode\n",
        "    for data in loader_train:\n",
        "        data = data.cuda()  # GPU support\n",
        "\n",
        "        optimizer.zero_grad()  # Step ①: Initialize gradients\n",
        "        out = net(data)  # Step ②: Obtain predictions through forward pass\n",
        "        loss = loss_fnc(out, data.y)  # Step ③: Calculate loss from predictions and ground truth\n",
        "\n",
        "        loss.backward()  # Step ④: Backpropagate gradients to calculate gradients\n",
        "        optimizer.step()  # Step ⑤: Update parameters using the optimization algorithm\n",
        "\n",
        "    # Evaluation\n",
        "    net.eval()  # Set to evaluation mode\n",
        "    acc_train = evaluate(loader_train)\n",
        "    acc_test = evaluate(loader_test)\n",
        "    print(\"Epoch:\", epoch,\n",
        "          \"acc_train:\", str(acc_train*100) + \"%\",\n",
        "          \"acc_test:\", str(acc_test*100) + \"%\")\n"
      ]
    },
    {
      "cell_type": "markdown",
      "metadata": {
        "id": "n3rn17KTjLSr"
      },
      "source": [
        "## Model Evaluation\n",
        "Evaluate the trained model.\n"
      ]
    },
    {
      "cell_type": "code",
      "execution_count": null,
      "metadata": {
        "id": "B7K0lvg0nQL4"
      },
      "outputs": [],
      "source": [
        "net.eval()  # Set to evaluation mode\n",
        "acc_test = evaluate(loader_test)\n",
        "print(\"Accuracy:\", str(acc_test*100) + \"%\")"
      ]
    }
  ],
  "metadata": {
    "accelerator": "GPU",
    "colab": {
      "provenance": [],
      "include_colab_link": true
    },
    "gpuClass": "standard",
    "kernelspec": {
      "display_name": "Python 3",
      "name": "python3"
    },
    "language_info": {
      "name": "python"
    }
  },
  "nbformat": 4,
  "nbformat_minor": 0
}