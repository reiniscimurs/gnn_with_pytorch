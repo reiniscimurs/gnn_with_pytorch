{
  "nbformat": 4,
  "nbformat_minor": 0,
  "metadata": {
    "colab": {
      "name": "01_simple_dl.ipynb",
      "provenance": [],
      "toc_visible": true,
      "include_colab_link": true
    },
    "kernelspec": {
      "name": "python3",
      "display_name": "Python 3"
    },
    "accelerator": "GPU"
  },
  "cells": [
    {
      "cell_type": "markdown",
      "metadata": {
        "id": "view-in-github",
        "colab_type": "text"
      },
      "source": [
        "<a href=\"https://colab.research.google.com/github/reiniscimurs/gnn_with_pytorch/blob/main/section_3/01_simple_dl.ipynb\" target=\"_parent\"><img src=\"https://colab.research.google.com/assets/colab-badge.svg\" alt=\"Open In Colab\"/></a>"
      ]
    },
    {
      "cell_type": "markdown",
      "metadata": {
        "id": "Niaz8_W6OX34"
      },
      "source": [
        "# Simple model training with Deep Learning\n",
        "Training a neural network for handwritten character recognition.\n",
        "Since we are using GPU for learning, select 'GPU' in 'Hardware Accelerator' under 'Edit' -> 'Notebook Settings'."
      ]
    },
    {
      "cell_type": "markdown",
      "metadata": {
        "id": "x9Gzbn25XSlF"
      },
      "source": [
        "## Loading Data\n",
        "Use `torchvision.datasets` to load handwritten character data and configure a DataLoader.\n",
        "By using DataLoader, tasks such as data loading and implementation of mini-batch methods become significantly easier.\n",
        "In addition to MNIST, `torchvision.datasets` provides various other datasets.\n",
        "https://pytorch.org/docs/stable/torchvision/datasets.html\n"
      ]
    },
    {
      "cell_type": "code",
      "metadata": {
        "id": "81Il03RNAmbS"
      },
      "source": [
        "import torch\n",
        "from torchvision.datasets import MNIST  # Handwritten character image data\n",
        "from torchvision import transforms\n",
        "from torch.utils.data import DataLoader\n",
        "\n",
        "# Obtain training data\n",
        "mnist_train = MNIST(\"./data\",\n",
        "                    train=True, download=True,\n",
        "                    transform=transforms.ToTensor())\n",
        "# Obtain test data\n",
        "mnist_test = MNIST(\"./data\",\n",
        "                   train=False, download=True,\n",
        "                   transform=transforms.ToTensor())\n",
        "print(\"Number of training data:\", len(mnist_train), \"Number of test data:\", len(mnist_test))\n",
        "\n",
        "# Configure DataLoader\n",
        "img_size = 28\n",
        "batch_size = 256\n",
        "train_loader = DataLoader(mnist_train,\n",
        "                          batch_size=batch_size,\n",
        "                          shuffle=True)\n",
        "test_loader = DataLoader(mnist_test,\n",
        "                         batch_size=batch_size,\n",
        "                         shuffle=False)"
      ],
      "execution_count": null,
      "outputs": []
    },
    {
      "cell_type": "markdown",
      "metadata": {
        "id": "sFWHMOf2D4b1"
      },
      "source": [
        "The size of the handwritten character images is 28×28.\n",
        "\n"
      ]
    },
    {
      "cell_type": "markdown",
      "metadata": {
        "id": "FalXNYaJPkoE"
      },
      "source": [
        "## Model Construction\n",
        "We will construct the model as a class inheriting from the nn.Module module.\n",
        "By using .cuda(), the model calculations will be performed on the GPU."
      ]
    },
    {
      "cell_type": "code",
      "metadata": {
        "id": "SuqqZmsh_jNK"
      },
      "source": [
        "import torch.nn as nn\n",
        "import torch.nn.functional as F\n",
        "\n",
        "class Net(nn.Module):\n",
        "    def __init__(self):\n",
        "        super().__init__()\n",
        "        self.fc1 = nn.Linear(img_size*img_size, 1024)  # Fully connected layer\n",
        "        self.fc2 = nn.Linear(1024, 512)\n",
        "        self.fc3 = nn.Linear(512, 10)\n",
        "\n",
        "    def forward(self, x):\n",
        "        x = x.view(-1, img_size*img_size)  # Batch size × number of inputs\n",
        "        x = F.relu(self.fc1(x))\n",
        "        x = F.relu(self.fc2(x))\n",
        "        x = self.fc3(x)\n",
        "        return x\n",
        "\n",
        "net = Net()\n",
        "net.cuda()  # Enable GPU\n",
        "print(net)"
      ],
      "execution_count": null,
      "outputs": []
    },
    {
      "cell_type": "markdown",
      "metadata": {
        "id": "qsW5zCKhQE9p"
      },
      "source": [
        "## Training\n",
        "Using DataLoader, extract mini-batches (chunks of data) for training and evaluation.\n",
        "\n",
        "Since training is performed multiple times with mini-batches within an epoch, it implies the implementation of mini-batch training.\n"
      ]
    },
    {
      "cell_type": "code",
      "metadata": {
        "id": "u6zwN3nArbGC"
      },
      "source": [
        "from torch import optim\n",
        "\n",
        "# Cross-entropy loss function\n",
        "loss_fnc = nn.CrossEntropyLoss()\n",
        "\n",
        "# SGD optimizer\n",
        "optimizer = optim.SGD(net.parameters(), lr=0.01)\n",
        "\n",
        "# Loss logs\n",
        "record_loss_train = []\n",
        "record_loss_test = []\n",
        "\n",
        "# Training\n",
        "for i in range(10):  # 10 epochs of training\n",
        "    net.train()  # Training mode\n",
        "    loss_train = 0\n",
        "    for j, (x, t) in enumerate(train_loader):  # Extract mini-batch (x, t)\n",
        "        x, t = x.cuda(), t.cuda()  # GPU support\n",
        "        optimizer.zero_grad()  # ① Initialize gradients\n",
        "        y = net(x)  # ② Obtain predictions through forward propagation\n",
        "        loss = loss_fnc(y, t)  # ③ Calculate loss from predictions and correct labels\n",
        "        loss_train += loss.item()\n",
        "        loss.backward()  # ④ Compute gradients through backpropagation from the loss\n",
        "        optimizer.step()  # ⑤ Update parameters through the optimization algorithm\n",
        "    loss_train /= j+1\n",
        "    record_loss_train.append(loss_train)\n",
        "\n",
        "    net.eval()  # Evaluation mode\n",
        "    loss_test = 0\n",
        "    for j, (x, t) in enumerate(test_loader):  # Extract mini-batch (x, t)\n",
        "        x, t = x.cuda(), t.cuda()\n",
        "        y = net(x)\n",
        "        loss = loss_fnc(y, t)\n",
        "        loss_test += loss.item()\n",
        "    loss_test /= j+1\n",
        "    record_loss_test.append(loss_test)\n",
        "\n",
        "    if i % 1 == 0:\n",
        "        print(\"Epoch:\", i, \"Loss_Train:\", loss_train, \"Loss_Test:\", loss_test)"
      ],
      "execution_count": null,
      "outputs": []
    },
    {
      "cell_type": "markdown",
      "metadata": {
        "id": "rJwwrWTw43rx"
      },
      "source": [
        "## Missmatch visualization\n",
        "Plotting the progression of errors for training and test data."
      ]
    },
    {
      "cell_type": "code",
      "metadata": {
        "id": "OaJx4swE45XI"
      },
      "source": [
        "import matplotlib.pyplot as plt\n",
        "\n",
        "plt.plot(range(len(record_loss_train)), record_loss_train, label=\"Train\")\n",
        "plt.plot(range(len(record_loss_test)), record_loss_test, label=\"Test\")\n",
        "plt.legend()\n",
        "\n",
        "plt.xlabel(\"Epochs\")\n",
        "plt.ylabel(\"Error\")\n",
        "plt.show()"
      ],
      "execution_count": null,
      "outputs": []
    },
    {
      "cell_type": "markdown",
      "metadata": {
        "id": "iMrpac0m4Nct"
      },
      "source": [
        "## Accuracy\n",
        "\n",
        "To assess the performance of the model, we will measure the accuracy using the test data."
      ]
    },
    {
      "cell_type": "code",
      "metadata": {
        "id": "IRkGCYMM_N35"
      },
      "source": [
        "correct = 0\n",
        "total = 0\n",
        "for i, (x, t) in enumerate(test_loader):\n",
        "    x, t = x.cuda(), t.cuda()  # GPU support\n",
        "    x = x.view(-1, img_size*img_size)\n",
        "    y = net(x)\n",
        "    correct += (y.argmax(1) == t).sum().item()\n",
        "    total += len(x)\n",
        "print(\"Accuracy:\", str(correct/total*100) + \"%\")"
      ],
      "execution_count": null,
      "outputs": []
    }
  ]
}