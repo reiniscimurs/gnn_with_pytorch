{
  "cells": [
    {
      "cell_type": "markdown",
      "metadata": {
        "id": "view-in-github",
        "colab_type": "text"
      },
      "source": [
        "<a href=\"https://colab.research.google.com/github/yukinaga/gnn/blob/main/section_3/02_simple_gnn.ipynb\" target=\"_parent\"><img src=\"https://colab.research.google.com/assets/colab-badge.svg\" alt=\"Open In Colab\"/></a>"
      ]
    },
    {
      "cell_type": "markdown",
      "metadata": {
        "id": "qBeK8bWc4a_9"
      },
      "source": [
        "# シンプルなGNNの実装\n",
        "PyTorch Geometricを使い、シンプルなGNNを実装します。  \n",
        "学習にGPUを利用するので、「編集」→「ノートブックの設定」の「ハードウェアアクセラレーター」で「GPU」を選択しましょう。"
      ]
    },
    {
      "cell_type": "markdown",
      "metadata": {
        "id": "KcHOX9LyZc2g"
      },
      "source": [
        "## Google ドライブとの連携  \n",
        "（2022.12.10更新 バージョンアップによりPyTorch Geometricのインストール速度が向上したため、Google Driveを使う必要がなくなりました）  \n",
        "~~今回はライブラリのサイズが大きく毎回インストールするのが大変なので、Googleドライブに保存します。  \n",
        "まずは以下のコードを実行し、認証コードを使用してGoogle ドライブをマウントします。~~"
      ]
    },
    {
      "cell_type": "code",
      "execution_count": null,
      "metadata": {
        "id": "7h7BA67Ed5wT"
      },
      "outputs": [],
      "source": [
        "# from google.colab import drive\n",
        "# drive.mount(\"/content/drive/\")"
      ]
    },
    {
      "cell_type": "markdown",
      "metadata": {
        "id": "nLxU1W19uDBJ"
      },
      "source": [
        "~~Googleドライブ上のパスを指定します。~~"
      ]
    },
    {
      "cell_type": "code",
      "execution_count": null,
      "metadata": {
        "id": "EnqZq1W7IkzR"
      },
      "outputs": [],
      "source": [
        "# dir_name = \"Live/gnn_live\"  # 好きなパスを設定してください\n",
        "# package_path = \"/content/drive/MyDrive/\" + dir_name + \"/packages/\""
      ]
    },
    {
      "cell_type": "markdown",
      "metadata": {
        "id": "ztIkOM_N5Bu7"
      },
      "source": [
        "## PyTorch Geometricのインストール\n",
        "GNN用のライブラリ「PyTorch Geometric」、および関連ライブラリをインストールします。  \n",
        "~~既にGoogle Driveにこれらのライブラリがインストール済みであれば、以下のセルのコードを実行する必要はありません。~~"
      ]
    },
    {
      "cell_type": "code",
      "execution_count": null,
      "metadata": {
        "id": "SLrzxL39qGie"
      },
      "outputs": [],
      "source": [
        "!pip install pyg-lib torch-scatter torch-sparse -f https://data.pyg.org/whl/torch-1.13.0+cu116.html\n",
        "!pip install torch-geometric\n",
        "!pip install scipy==1.8.0"
      ]
    },
    {
      "cell_type": "markdown",
      "metadata": {
        "id": "c7vHsBUGgb7u"
      },
      "source": [
        "~~Google Driveに保存したパッケージをシステムに追加します。  ~~"
      ]
    },
    {
      "cell_type": "code",
      "execution_count": null,
      "metadata": {
        "id": "dx1fjOrB-ZPR"
      },
      "outputs": [],
      "source": [
        "# import sys\n",
        "\n",
        "# sys.path.append(package_path)  "
      ]
    },
    {
      "cell_type": "markdown",
      "metadata": {
        "id": "RZeLe5ktmDCG"
      },
      "source": [
        "## データセットの読み込み\n",
        "データセット、「Cora」を読み込みます。  \n",
        "Coraデータセットは、2708の科学論文の引用ネットワークで構成されています。  \n",
        "グラフで表した場合、ノードは各論文を、エッジは引用関係を表します。    \n",
        "各論文は7つのクラスに分類されます。  \n",
        "データセット内の各論文は、特徴量として単語の非存在or存在を示す0or1からなる単語ベクトルを持っています。  \n",
        "ユニークな単語の数は1433です。  \n",
        "\n",
        "以下のコードにより、Coraのデータセットを読み込みます。"
      ]
    },
    {
      "cell_type": "code",
      "execution_count": null,
      "metadata": {
        "id": "BlyKILeKUskH"
      },
      "outputs": [],
      "source": [
        "from torch_geometric.datasets import Planetoid\n",
        "\n",
        "dataset = Planetoid(root=\"/tmp/Cora\", name=\"Cora\")\n",
        "data = dataset[0]"
      ]
    },
    {
      "cell_type": "markdown",
      "metadata": {
        "id": "6LcfIq4nWfG2"
      },
      "source": [
        "グラフの情報を表示するための関数を設定します。"
      ]
    },
    {
      "cell_type": "code",
      "execution_count": null,
      "metadata": {
        "id": "3X2TN2rYtCTO"
      },
      "outputs": [],
      "source": [
        "def graph_info(data):\n",
        "\n",
        "    print(\"ノードの数:\", data.num_nodes)\n",
        "    print(\"エッジの数:\", data.num_edges)\n",
        "    print(\"特徴量の数:\", data.num_node_features)\n",
        "    print(\"無向グラフか？:\", data.is_undirected())\n",
        "    print(\"孤立したノードが有るか？:\", data.has_isolated_nodes())\n",
        "    print(\"自己ループがあるか？:\", data.has_self_loops())\n",
        "\n",
        "    print()\n",
        "\n",
        "    print(\"キー: \", data.keys)\n",
        "    print(\"各ノードの特徴量\")\n",
        "    print(data[\"x\"])\n",
        "    print(\"各ノードのラベル\")\n",
        "    print(data[\"y\"])\n",
        "    print(\"各エッジ\")\n",
        "    print(data[\"edge_index\"])"
      ]
    },
    {
      "cell_type": "markdown",
      "metadata": {
        "id": "iQ9ic97RWMwp"
      },
      "source": [
        "関数を使って、データセットの情報を表示します。  "
      ]
    },
    {
      "cell_type": "code",
      "execution_count": null,
      "metadata": {
        "id": "IUrvz5-n1IMQ"
      },
      "outputs": [],
      "source": [
        "graph_info(data)"
      ]
    },
    {
      "cell_type": "markdown",
      "metadata": {
        "id": "OudOxYHbXBj1"
      },
      "source": [
        "NetworkXとmatplotlibを使ってグラフを可視化します。"
      ]
    },
    {
      "cell_type": "code",
      "execution_count": null,
      "metadata": {
        "id": "rYD3_2vL4r7H"
      },
      "outputs": [],
      "source": [
        "from torch_geometric.utils import to_networkx\n",
        "import networkx as nx\n",
        "import matplotlib.pyplot as plt\n",
        "\n",
        "data_nx = to_networkx(data)  # networkxのグラフに変換\n",
        "\n",
        "plt.figure(figsize=(12, 10))\n",
        "nx.draw(data_nx,\n",
        "        node_color = data.y,\n",
        "        node_size=10)\n",
        "plt.show()"
      ]
    },
    {
      "cell_type": "markdown",
      "metadata": {
        "id": "Q2s4JTtLh_cO"
      },
      "source": [
        "## モデルの構築\n",
        "シンプルなGNNのモデルを構築します。  \n",
        "今回は2層からなる「Graph Convolutional Networks」を実装します。  \n",
        "層の実装には、`GCNConv()`を利用します。  \n",
        "https://pytorch-geometric.readthedocs.io/en/latest/modules/nn.html#torch_geometric.nn.conv.GCNConv"
      ]
    },
    {
      "cell_type": "code",
      "execution_count": null,
      "metadata": {
        "id": "EGMeG-bgldbu"
      },
      "outputs": [],
      "source": [
        "import torch\n",
        "import torch.nn as nn\n",
        "from torch_geometric.nn import GCNConv\n",
        "\n",
        "class GCN(nn.Module):\n",
        "    def __init__(self):\n",
        "        super().__init__()\n",
        "        self.conv1 = GCNConv(dataset.num_node_features, 32)\n",
        "        self.relu = nn.ReLU()  # ReLU\n",
        "        self.conv2 = GCNConv(32, dataset.num_classes)\n",
        "\n",
        "    def forward(self, data):\n",
        "        x = data.x\n",
        "        edge_index = data.edge_index\n",
        "\n",
        "        x = self.conv1(x, edge_index)\n",
        "        x = self.relu(x)\n",
        "        x = self.conv2(x, edge_index)\n",
        "\n",
        "        return x\n",
        "\n",
        "net = GCN()\n",
        "net.cuda()  #GPU対応"
      ]
    },
    {
      "cell_type": "markdown",
      "metadata": {
        "id": "qP9O1HhFikx-"
      },
      "source": [
        "## 学習\n",
        "訓練データを使い、モデルを訓練します。"
      ]
    },
    {
      "cell_type": "code",
      "execution_count": null,
      "metadata": {
        "id": "rfv35TJsnNcZ"
      },
      "outputs": [],
      "source": [
        "from torch import optim\n",
        "\n",
        "data = data.cuda()  # GPU対応\n",
        "\n",
        "# 交差エントロピー誤差関数\n",
        "loss_fnc = nn.CrossEntropyLoss()\n",
        "\n",
        "# 最適化アルゴリズム\n",
        "optimizer = optim.Adam(net.parameters())\n",
        "\n",
        "net.train()  # 訓練モード\n",
        "for epoch in range(200):\n",
        "    optimizer.zero_grad()  # ①勾配の初期化\n",
        "    out = net(data)  # ②順伝播により予測値を得る\n",
        "    loss = loss_fnc(out[data.train_mask], data.y[data.train_mask])  # ③予測値と正解値から誤差を計算\n",
        "\n",
        "    loss.backward()  # ④誤差からバックプロパゲーションにより勾配を計算\n",
        "    optimizer.step()  # ⑤最適化アルゴリズムによりパラメータを更新"
      ]
    },
    {
      "cell_type": "markdown",
      "metadata": {
        "id": "n3rn17KTjLSr"
      },
      "source": [
        "## モデルの評価\n",
        "テスト用のノードを使って精度を測定し、モデルを評価します。"
      ]
    },
    {
      "cell_type": "code",
      "execution_count": null,
      "metadata": {
        "id": "B7K0lvg0nQL4"
      },
      "outputs": [],
      "source": [
        "net.eval()  # 評価モード\n",
        "pred = net(data).argmax(dim=1)\n",
        "correct = (pred[data.test_mask] == data.y[data.test_mask]).sum()\n",
        "accuracy = int(correct) / int(data.test_mask.sum())\n",
        "print(\"正解率:\", str(accuracy*100) + \"%\")"
      ]
    }
  ],
  "metadata": {
    "accelerator": "GPU",
    "colab": {
      "provenance": [],
      "authorship_tag": "ABX9TyP8W5ycqjLBcUD7/ta7LLgg",
      "include_colab_link": true
    },
    "gpuClass": "standard",
    "kernelspec": {
      "display_name": "Python 3",
      "name": "python3"
    },
    "language_info": {
      "name": "python"
    }
  },
  "nbformat": 4,
  "nbformat_minor": 0
}