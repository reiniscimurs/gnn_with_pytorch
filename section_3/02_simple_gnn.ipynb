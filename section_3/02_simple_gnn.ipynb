{
  "cells": [
    {
      "cell_type": "markdown",
      "metadata": {
        "id": "view-in-github",
        "colab_type": "text"
      },
      "source": [
        "<a href=\"https://colab.research.google.com/github/reiniscimurs/gnn_with_pytorch/blob/main/section_3/02_simple_gnn.ipynb\" target=\"_parent\"><img src=\"https://colab.research.google.com/assets/colab-badge.svg\" alt=\"Open In Colab\"/></a>"
      ]
    },
    {
      "cell_type": "markdown",
      "metadata": {
        "id": "qBeK8bWc4a_9"
      },
      "source": [
        "# Implementation of a Simple Graph Neural Network (GNN)\n",
        "Implement a simple Graph Neural Network (GNN) using PyTorch Geometric. Since we'll be using GPU for training, go to \"Edit\" -> \"Notebook Settings\" and select \"GPU\" under \"Hardware Accelerator.\""
      ]
    },
    {
      "cell_type": "markdown",
      "metadata": {
        "id": "ztIkOM_N5Bu7"
      },
      "source": [
        "## Installation of PyTorch Geometric\n",
        "Install the library \"PyTorch Geometric\" for Graph Neural Networks, along with its related libraries."
      ]
    },
    {
      "cell_type": "code",
      "execution_count": null,
      "metadata": {
        "id": "SLrzxL39qGie"
      },
      "outputs": [],
      "source": [
        "!pip install pyg-lib torch-scatter torch-sparse -f https://data.pyg.org/whl/torch-1.13.0+cu116.html\n",
        "!pip install torch-geometric\n",
        "!pip install scipy==1.8.0"
      ]
    },
    {
      "cell_type": "markdown",
      "metadata": {
        "id": "RZeLe5ktmDCG"
      },
      "source": [
        "## Loading the Dataset\n",
        "We will load the dataset \"Cora.\" The Cora dataset consists of a citation network of 2,708 scientific papers. Represented as a graph, each node corresponds to a paper, and edges represent citation relationships. Each paper is classified into one of seven classes. Each paper in the dataset has a word vector as a feature, indicating the presence (1) or absence (0) of words. The number of unique words is 1433.\n",
        "\n",
        "The following code loads the Cora dataset:"
      ]
    },
    {
      "cell_type": "code",
      "execution_count": null,
      "metadata": {
        "id": "BlyKILeKUskH"
      },
      "outputs": [],
      "source": [
        "from torch_geometric.datasets import Planetoid\n",
        "\n",
        "dataset = Planetoid(root=\"/tmp/Cora\", name=\"Cora\")\n",
        "data = dataset[0]"
      ]
    },
    {
      "cell_type": "markdown",
      "metadata": {
        "id": "6LcfIq4nWfG2"
      },
      "source": [
        "Define a function to display information about the graph."
      ]
    },
    {
      "cell_type": "code",
      "execution_count": null,
      "metadata": {
        "id": "3X2TN2rYtCTO"
      },
      "outputs": [],
      "source": [
        "def graph_info(data):\n",
        "\n",
        "    print(\"Number of nodes:\", data.num_nodes)\n",
        "    print(\"Number of edges:\", data.num_edges)\n",
        "    print(\"Number of features:\", data.num_node_features)\n",
        "    print(\"Is the graph undirected?\", data.is_undirected())\n",
        "    print(\"Are there isolated nodes?\", data.has_isolated_nodes())\n",
        "    print(\"Are there self-loops?\", data.has_self_loops())\n",
        "\n",
        "    print()\n",
        "\n",
        "    print(\"Keys: \", data.keys)\n",
        "    print(\"Node features for each node\")\n",
        "    print(data[\"x\"])\n",
        "    print(\"Labels for each node\")\n",
        "    print(data[\"y\"])\n",
        "    print(\"Edges\")\n",
        "    print(data[\"edge_index\"])"
      ]
    },
    {
      "cell_type": "markdown",
      "metadata": {
        "id": "iQ9ic97RWMwp"
      },
      "source": [
        "Use the function to display information about the dataset."
      ]
    },
    {
      "cell_type": "code",
      "execution_count": null,
      "metadata": {
        "id": "IUrvz5-n1IMQ"
      },
      "outputs": [],
      "source": [
        "graph_info(data)"
      ]
    },
    {
      "cell_type": "markdown",
      "metadata": {
        "id": "OudOxYHbXBj1"
      },
      "source": [
        "Visualize the graph using NetworkX and Matplotlib."
      ]
    },
    {
      "cell_type": "code",
      "execution_count": null,
      "metadata": {
        "id": "rYD3_2vL4r7H"
      },
      "outputs": [],
      "source": [
        "from torch_geometric.utils import to_networkx\n",
        "import networkx as nx\n",
        "import matplotlib.pyplot as plt\n",
        "\n",
        "data_nx = to_networkx(data)  # Convert to a NetworkX graph\n",
        "\n",
        "plt.figure(figsize=(12, 10))\n",
        "nx.draw(data_nx,\n",
        "        node_color=data.y,\n",
        "        node_size=10)\n",
        "plt.show()"
      ]
    },
    {
      "cell_type": "markdown",
      "metadata": {
        "id": "Q2s4JTtLh_cO"
      },
      "source": [
        "## Model Construction\n",
        "We will build a model for a simple Graph Neural Network (GNN). This time, we'll implement a \"Graph Convolutional Networks\" with two layers. For the layer implementation, we'll use `GCNConv()`.\n",
        "https://pytorch-geometric.readthedocs.io/en/latest/modules/nn.html#torch_geometric.nn.conv.GCNConv"
      ]
    },
    {
      "cell_type": "code",
      "execution_count": null,
      "metadata": {
        "id": "EGMeG-bgldbu"
      },
      "outputs": [],
      "source": [
        "import torch\n",
        "import torch.nn as nn\n",
        "from torch_geometric.nn import GCNConv\n",
        "\n",
        "class GCN(nn.Module):\n",
        "    def __init__(self):\n",
        "        super().__init__()\n",
        "        self.conv1 = GCNConv(dataset.num_node_features, 32)\n",
        "        self.relu = nn.ReLU()  # ReLU\n",
        "        self.conv2 = GCNConv(32, dataset.num_classes)\n",
        "\n",
        "    def forward(self, data):\n",
        "        x = data.x\n",
        "        edge_index = data.edge_index\n",
        "\n",
        "        x = self.conv1(x, edge_index)\n",
        "        x = self.relu(x)\n",
        "        x = self.conv2(x, edge_index)\n",
        "\n",
        "        return x\n",
        "\n",
        "net = GCN()\n",
        "net.cuda()  # Enable GPU"
      ]
    },
    {
      "cell_type": "markdown",
      "metadata": {
        "id": "qP9O1HhFikx-"
      },
      "source": [
        "## Train\n",
        "Train the model using the training data."
      ]
    },
    {
      "cell_type": "code",
      "execution_count": null,
      "metadata": {
        "id": "rfv35TJsnNcZ"
      },
      "outputs": [],
      "source": [
        "from torch import optim\n",
        "\n",
        "data = data.cuda()  # GPU support\n",
        "\n",
        "# Cross-entropy loss function\n",
        "loss_fnc = nn.CrossEntropyLoss()\n",
        "\n",
        "# Optimization algorithm\n",
        "optimizer = optim.Adam(net.parameters())\n",
        "\n",
        "net.train()  # Training mode\n",
        "for epoch in range(200):\n",
        "    optimizer.zero_grad()  # ① Initialize gradients\n",
        "    out = net(data)  # ② Obtain predictions through forward propagation\n",
        "    loss = loss_fnc(out[data.train_mask], data.y[data.train_mask])  # ③ Calculate loss from predictions and correct labels\n",
        "\n",
        "    loss.backward()  # ④ Compute gradients through backpropagation from the loss\n",
        "    optimizer.step()  # ⑤ Update parameters through the optimization algorithm"
      ]
    },
    {
      "cell_type": "markdown",
      "metadata": {
        "id": "n3rn17KTjLSr"
      },
      "source": [
        "## Model Evaluation\n",
        "Evaluate the model by measuring accuracy using test nodes."
      ]
    },
    {
      "cell_type": "code",
      "execution_count": null,
      "metadata": {
        "id": "B7K0lvg0nQL4"
      },
      "outputs": [],
      "source": [
        "net.eval()  # Evaluation mode\n",
        "pred = net(data).argmax(dim=1)\n",
        "correct = (pred[data.test_mask] == data.y[data.test_mask]).sum()\n",
        "accuracy = int(correct) / int(data.test_mask.sum())\n",
        "print(\"Accuracy:\", str(accuracy * 100) + \"%\")"
      ]
    }
  ],
  "metadata": {
    "accelerator": "GPU",
    "colab": {
      "provenance": [],
      "include_colab_link": true
    },
    "gpuClass": "standard",
    "kernelspec": {
      "display_name": "Python 3",
      "name": "python3"
    },
    "language_info": {
      "name": "python"
    }
  },
  "nbformat": 4,
  "nbformat_minor": 0
}