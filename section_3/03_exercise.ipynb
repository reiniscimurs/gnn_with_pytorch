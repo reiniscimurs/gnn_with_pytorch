{
  "cells": [
    {
      "cell_type": "markdown",
      "metadata": {
        "id": "view-in-github",
        "colab_type": "text"
      },
      "source": [
        "<a href=\"https://colab.research.google.com/github/yukinaga/gnn/blob/main/section_3/03_exercise.ipynb\" target=\"_parent\"><img src=\"https://colab.research.google.com/assets/colab-badge.svg\" alt=\"Open In Colab\"/></a>"
      ]
    },
    {
      "cell_type": "markdown",
      "metadata": {
        "id": "qBeK8bWc4a_9"
      },
      "source": [
        "# 演習\n",
        "データセット「PubMed」を使い、モデルを訓練しましょう。  \n",
        "モデルの構築、およびモデルの訓練のコードを記述してください。  "
      ]
    },
    {
      "cell_type": "markdown",
      "metadata": {
        "id": "KcHOX9LyZc2g"
      },
      "source": [
        "## Google ドライブとの連携  \n",
        "（2022.12.10更新 バージョンアップによりPyTorch Geometricのインストール速度が向上したため、Google Driveを使う必要がなくなりました）   \n",
        "~~以下のコードを実行し、認証コードを使用してGoogle ドライブをマウントします。~~"
      ]
    },
    {
      "cell_type": "code",
      "execution_count": null,
      "metadata": {
        "id": "7h7BA67Ed5wT"
      },
      "outputs": [],
      "source": [
        "# from google.colab import drive\n",
        "# drive.mount(\"/content/drive/\")"
      ]
    },
    {
      "cell_type": "markdown",
      "metadata": {
        "id": "nLxU1W19uDBJ"
      },
      "source": [
        "~~Googleドライブ上のパスを指定します。~~"
      ]
    },
    {
      "cell_type": "code",
      "execution_count": null,
      "metadata": {
        "id": "EnqZq1W7IkzR"
      },
      "outputs": [],
      "source": [
        "# dir_name = \"Live/gnn_live\"  # 好きなパスを設定してください\n",
        "# package_path = \"/content/drive/MyDrive/\" + dir_name + \"/packages/\""
      ]
    },
    {
      "cell_type": "markdown",
      "metadata": {
        "id": "ztIkOM_N5Bu7"
      },
      "source": [
        "## PyTorch Geometricのインストール\n",
        "GNN用のライブラリ「PyTorch Geometric」、および関連ライブラリをGoogle Driveのパスを指定してインストールします。  "
      ]
    },
    {
      "cell_type": "code",
      "execution_count": null,
      "metadata": {
        "id": "SLrzxL39qGie"
      },
      "outputs": [],
      "source": [
        "!pip install pyg-lib torch-scatter torch-sparse -f https://data.pyg.org/whl/torch-1.13.0+cu116.html\n",
        "!pip install torch-geometric\n",
        "!pip install scipy==1.8.0"
      ]
    },
    {
      "cell_type": "markdown",
      "metadata": {
        "id": "c7vHsBUGgb7u"
      },
      "source": [
        "~~Google Driveに保存したパッケージをシステムに追加します。  ~~"
      ]
    },
    {
      "cell_type": "code",
      "execution_count": null,
      "metadata": {
        "id": "dx1fjOrB-ZPR"
      },
      "outputs": [],
      "source": [
        "# import sys\n",
        "\n",
        "# sys.path.append(package_path)  "
      ]
    },
    {
      "cell_type": "markdown",
      "metadata": {
        "id": "RZeLe5ktmDCG"
      },
      "source": [
        "## データセットの読み込み\n",
        "生物医学文献のデータセット、「PubMed」を読み込みます。  "
      ]
    },
    {
      "cell_type": "code",
      "execution_count": null,
      "metadata": {
        "id": "BlyKILeKUskH"
      },
      "outputs": [],
      "source": [
        "from torch_geometric.datasets import Planetoid\n",
        "\n",
        "dataset = Planetoid(root=\"/tmp/PubMed\", name=\"PubMed\")\n",
        "data = dataset[0]"
      ]
    },
    {
      "cell_type": "markdown",
      "metadata": {
        "id": "6LcfIq4nWfG2"
      },
      "source": [
        "グラフの情報を表示するための関数を設定します。"
      ]
    },
    {
      "cell_type": "code",
      "execution_count": null,
      "metadata": {
        "id": "3X2TN2rYtCTO"
      },
      "outputs": [],
      "source": [
        "def graph_info(data):\n",
        "\n",
        "    print(\"ノードの数:\", data.num_nodes)\n",
        "    print(\"エッジの数:\", data.num_edges)\n",
        "    print(\"特徴量の数:\", data.num_node_features)\n",
        "    print(\"無向グラフか？:\", data.is_undirected())\n",
        "    print(\"孤立したノードが有るか？:\", data.has_isolated_nodes())\n",
        "    print(\"自己ループがあるか？:\", data.has_self_loops())\n",
        "\n",
        "    print()\n",
        "\n",
        "    print(\"キー: \", data.keys)\n",
        "    print(\"各ノードの特徴量\")\n",
        "    print(data[\"x\"])\n",
        "    print(\"各ノードのラベル\")\n",
        "    print(data[\"y\"])\n",
        "    print(\"各エッジ\")\n",
        "    print(data[\"edge_index\"])"
      ]
    },
    {
      "cell_type": "markdown",
      "metadata": {
        "id": "iQ9ic97RWMwp"
      },
      "source": [
        "関数を使って、データセットの情報を表示します。  "
      ]
    },
    {
      "cell_type": "code",
      "execution_count": null,
      "metadata": {
        "id": "IUrvz5-n1IMQ"
      },
      "outputs": [],
      "source": [
        "graph_info(data)"
      ]
    },
    {
      "cell_type": "markdown",
      "metadata": {
        "id": "Q2s4JTtLh_cO"
      },
      "source": [
        "## モデルの構築\n",
        "以下のセルにコードを追記し、2層からなる「Graph Convolutional Networks」を実装してださい。  \n",
        "層の実装には、`GCNConv()`を利用します。  \n",
        "https://pytorch-geometric.readthedocs.io/en/latest/modules/nn.html#torch_geometric.nn.conv.GCNConv"
      ]
    },
    {
      "cell_type": "code",
      "execution_count": null,
      "metadata": {
        "id": "EGMeG-bgldbu"
      },
      "outputs": [],
      "source": [
        "import torch\n",
        "import torch.nn as nn\n",
        "from torch_geometric.nn import GCNConv\n",
        "\n",
        "class GCN(torch.nn.Module):\n",
        "    def __init__(self):\n",
        "        super().__init__()\n",
        "        # ------- 以下にコードを書く -------\n",
        " \n",
        "\n",
        "\n",
        "        # ------- ここまで -------\n",
        "\n",
        "    def forward(self, data):\n",
        "        x = data.x\n",
        "        edge_index = data.edge_index\n",
        "\n",
        "        # ------- 以下にコードを書く -------\n",
        "\n",
        "\n",
        "\n",
        "        # ------- ここまで -------\n",
        "\n",
        "        return x\n",
        "\n",
        "net = GCN()\n",
        "net.cuda()  #GPU対応"
      ]
    },
    {
      "cell_type": "markdown",
      "metadata": {
        "id": "qP9O1HhFikx-"
      },
      "source": [
        "## 学習\n",
        "「PubMed」の訓練データを使ってモデルを訓練しましょう。  \n",
        "以下のセルにコードを追記してください。  "
      ]
    },
    {
      "cell_type": "code",
      "execution_count": null,
      "metadata": {
        "id": "rfv35TJsnNcZ"
      },
      "outputs": [],
      "source": [
        "from torch import optim\n",
        "\n",
        "data = data.cuda()  # GPU対応\n",
        "\n",
        "# 交差エントロピー誤差関数\n",
        "loss_fnc = nn.CrossEntropyLoss()\n",
        "\n",
        "# 最適化アルゴリズム\n",
        "optimizer = optim.Adam(net.parameters())\n",
        "\n",
        "net.train()  # 訓練モード\n",
        "for epoch in range(200):\n",
        "    # ------- 以下にコードを書く -------\n",
        "\n",
        "\n",
        "\n",
        "\n",
        "\n",
        "\n",
        "    # ------- ここまで -------"
      ]
    },
    {
      "cell_type": "markdown",
      "metadata": {
        "id": "n3rn17KTjLSr"
      },
      "source": [
        "## モデルの評価"
      ]
    },
    {
      "cell_type": "code",
      "execution_count": null,
      "metadata": {
        "id": "B7K0lvg0nQL4"
      },
      "outputs": [],
      "source": [
        "net.eval()  # 評価モード\n",
        "pred = net(data).argmax(dim=1)\n",
        "correct = (pred[data.test_mask] == data.y[data.test_mask]).sum()\n",
        "accuracy = int(correct) / int(data.test_mask.sum())\n",
        "print(\"正解率:\", str(accuracy*100) + \"%\")"
      ]
    },
    {
      "cell_type": "markdown",
      "metadata": {
        "id": "BEW_lUs3PJCQ"
      },
      "source": [
        "### 〇解答例\n",
        "以下は解答例です。"
      ]
    },
    {
      "cell_type": "code",
      "source": [
        "import torch\n",
        "import torch.nn as nn\n",
        "from torch_geometric.nn import GCNConv\n",
        "\n",
        "class GCN(torch.nn.Module):\n",
        "    def __init__(self):\n",
        "        super().__init__()\n",
        "        # ------- 以下にコードを書く -------\n",
        "        self.conv1 = GCNConv(dataset.num_node_features, 32)\n",
        "        self.relu = nn.ReLU()  # ReLU\n",
        "        self.conv2 = GCNConv(32, dataset.num_classes)\n",
        "        # ------- ここまで -------\n",
        "\n",
        "    def forward(self, data):\n",
        "        x = data.x\n",
        "        edge_index = data.edge_index\n",
        "\n",
        "        # ------- 以下にコードを書く -------\n",
        "        x = self.conv1(x, edge_index)\n",
        "        x = self.relu(x)\n",
        "        x = self.conv2(x, edge_index)\n",
        "        # ------- ここまで -------\n",
        "\n",
        "        return x\n",
        "\n",
        "net = GCN()\n",
        "net.cuda()  #GPU対応"
      ],
      "metadata": {
        "id": "qK35rHV04ln0"
      },
      "execution_count": null,
      "outputs": []
    },
    {
      "cell_type": "code",
      "source": [
        "from torch import optim\n",
        "\n",
        "data = data.cuda()  # GPU対応\n",
        "\n",
        "# 交差エントロピー誤差関数\n",
        "loss_fnc = nn.CrossEntropyLoss()\n",
        "\n",
        "# 最適化アルゴリズム\n",
        "optimizer = optim.Adam(net.parameters())\n",
        "\n",
        "net.train()  # 訓練モード\n",
        "for epoch in range(200):\n",
        "    # ------- 以下にコードを書く -------\n",
        "    optimizer.zero_grad()\n",
        "    out = net(data)\n",
        "    loss = loss_fnc(out[data.train_mask], data.y[data.train_mask])\n",
        "\n",
        "    loss.backward()\n",
        "    optimizer.step()\n",
        "    # ------- ここまで -------"
      ],
      "metadata": {
        "id": "JvpM23PJ4n41"
      },
      "execution_count": null,
      "outputs": []
    }
  ],
  "metadata": {
    "accelerator": "GPU",
    "colab": {
      "provenance": [],
      "authorship_tag": "ABX9TyPALOhrwqe9T0H4yKT6Ftf5",
      "include_colab_link": true
    },
    "gpuClass": "standard",
    "kernelspec": {
      "display_name": "Python 3",
      "name": "python3"
    },
    "language_info": {
      "name": "python"
    }
  },
  "nbformat": 4,
  "nbformat_minor": 0
}