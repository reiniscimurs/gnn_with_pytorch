{
  "cells": [
    {
      "cell_type": "markdown",
      "metadata": {
        "id": "view-in-github",
        "colab_type": "text"
      },
      "source": [
        "<a href=\"https://colab.research.google.com/github/reiniscimurs/gnn_with_pytorch/blob/main/section_3/03_exercise.ipynb\" target=\"_parent\"><img src=\"https://colab.research.google.com/assets/colab-badge.svg\" alt=\"Open In Colab\"/></a>"
      ]
    },
    {
      "cell_type": "markdown",
      "metadata": {
        "id": "qBeK8bWc4a_9"
      },
      "source": [
        "# Practice\n",
        "Let's use the dataset \"PubMed\" to train the model.\n",
        "Please describe the code for constructing the model and training the model.  "
      ]
    },
    {
      "cell_type": "markdown",
      "metadata": {
        "id": "ztIkOM_N5Bu7"
      },
      "source": [
        "## Installation of PyTorch Geometric\n",
        "Install the library \"PyTorch Geometric\" for GNN (Graph Neural Network) along with related libraries.  "
      ]
    },
    {
      "cell_type": "code",
      "execution_count": null,
      "metadata": {
        "id": "SLrzxL39qGie"
      },
      "outputs": [],
      "source": [
        "!pip install pyg-lib torch-scatter torch-sparse -f https://data.pyg.org/whl/torch-1.13.0+cu116.html\n",
        "!pip install torch-geometric\n",
        "!pip install scipy==1.8.0"
      ]
    },
    {
      "cell_type": "markdown",
      "metadata": {
        "id": "RZeLe5ktmDCG"
      },
      "source": [
        "## Loading the Dataset\n",
        "Load the biomedical literature dataset, \"PubMed.\""
      ]
    },
    {
      "cell_type": "code",
      "execution_count": null,
      "metadata": {
        "id": "BlyKILeKUskH"
      },
      "outputs": [],
      "source": [
        "from torch_geometric.datasets import Planetoid\n",
        "\n",
        "dataset = Planetoid(root=\"/tmp/PubMed\", name=\"PubMed\")\n",
        "data = dataset[0]"
      ]
    },
    {
      "cell_type": "markdown",
      "metadata": {
        "id": "6LcfIq4nWfG2"
      },
      "source": [
        "Set up a function to display information about the graph."
      ]
    },
    {
      "cell_type": "code",
      "execution_count": null,
      "metadata": {
        "id": "3X2TN2rYtCTO"
      },
      "outputs": [],
      "source": [
        "def graph_info(data):\n",
        "\n",
        "    print(\"Number of nodes:\", data.num_nodes)\n",
        "    print(\"Number of edges:\", data.num_edges)\n",
        "    print(\"Number of features:\", data.num_node_features)\n",
        "    print(\"Is it an undirected graph?:\", data.is_undirected())\n",
        "    print(\"Does it have isolated nodes?:\", data.has_isolated_nodes())\n",
        "    print(\"Does it have self-loops?:\", data.has_self_loops())\n",
        "\n",
        "    print()\n",
        "\n",
        "    print(\"Keys: \", data.keys)\n",
        "    print(\"Features for each node\")\n",
        "    print(data[\"x\"])\n",
        "    print(\"Labels for each node\")\n",
        "    print(data[\"y\"])\n",
        "    print(\"Edges for each node\")\n",
        "    print(data[\"edge_index\"])"
      ]
    },
    {
      "cell_type": "markdown",
      "metadata": {
        "id": "iQ9ic97RWMwp"
      },
      "source": [
        "Using the function to display information about the dataset."
      ]
    },
    {
      "cell_type": "code",
      "execution_count": null,
      "metadata": {
        "id": "IUrvz5-n1IMQ"
      },
      "outputs": [],
      "source": [
        "graph_info(data)"
      ]
    },
    {
      "cell_type": "markdown",
      "metadata": {
        "id": "Q2s4JTtLh_cO"
      },
      "source": [
        "## Building the Model\n",
        "Add code to the following cell and implement a \"Graph Convolutional Networks\" consisting of two layers. Utilize GCNConv() for the implementation of each layer.  \n",
        "https://pytorch-geometric.readthedocs.io/en/latest/modules/nn.html#torch_geometric.nn.conv.GCNConv"
      ]
    },
    {
      "cell_type": "code",
      "execution_count": null,
      "metadata": {
        "id": "EGMeG-bgldbu"
      },
      "outputs": [],
      "source": [
        "import torch\n",
        "import torch.nn as nn\n",
        "from torch_geometric.nn import GCNConv\n",
        "\n",
        "class GCN(torch.nn.Module):\n",
        "    def __init__(self):\n",
        "        super().__init__()\n",
        "        # ------- Add code below -------\n",
        "\n",
        "\n",
        "\n",
        "        # ------- Add code above -------\n",
        "\n",
        "    def forward(self, data):\n",
        "        x = data.x\n",
        "        edge_index = data.edge_index\n",
        "\n",
        "        # ------- Add code below -------\n",
        "\n",
        "\n",
        "\n",
        "        # ------- Add code above -------\n",
        "\n",
        "        return x\n",
        "\n",
        "net = GCN()\n",
        "net.cuda()"
      ]
    },
    {
      "cell_type": "markdown",
      "metadata": {
        "id": "qP9O1HhFikx-"
      },
      "source": [
        "## Training\n",
        "Let's train the model using the training data from \"PubMed.\" Please add the code in the following cell."
      ]
    },
    {
      "cell_type": "code",
      "execution_count": null,
      "metadata": {
        "id": "rfv35TJsnNcZ"
      },
      "outputs": [],
      "source": [
        "from torch import optim\n",
        "\n",
        "data = data.cuda()\n",
        "\n",
        "# Cross-Entropy Loss Function\n",
        "loss_fnc = nn.CrossEntropyLoss()\n",
        "\n",
        "# Optimization Algorithm\n",
        "optimizer = optim.Adam(net.parameters())\n",
        "\n",
        "net.train()  # Training Mode\n",
        "for epoch in range(200):\n",
        "    # ------- Add code below -------\n",
        "\n",
        "\n",
        "\n",
        "\n",
        "\n",
        "\n",
        "    # ------- Add code above -------"
      ]
    },
    {
      "cell_type": "markdown",
      "metadata": {
        "id": "n3rn17KTjLSr"
      },
      "source": [
        "## Model Evaluation"
      ]
    },
    {
      "cell_type": "code",
      "execution_count": null,
      "metadata": {
        "id": "B7K0lvg0nQL4"
      },
      "outputs": [],
      "source": [
        "net.eval()  # Evaluation Mode\n",
        "pred = net(data).argmax(dim=1)\n",
        "correct = (pred[data.test_mask] == data.y[data.test_mask]).sum()\n",
        "accuracy = int(correct) / int(data.test_mask.sum())\n",
        "print(\"Accuracy:\", str(accuracy * 100) + \"%\")"
      ]
    },
    {
      "cell_type": "markdown",
      "metadata": {
        "id": "BEW_lUs3PJCQ"
      },
      "source": [
        "### Example Answer"
      ]
    },
    {
      "cell_type": "code",
      "source": [
        "import torch\n",
        "import torch.nn as nn\n",
        "from torch_geometric.nn import GCNConv\n",
        "\n",
        "class GCN(torch.nn.Module):\n",
        "    def __init__(self):\n",
        "        super().__init__()\n",
        "        # ------- Add code below -------\n",
        "        self.conv1 = GCNConv(dataset.num_node_features, 32)\n",
        "        self.relu = nn.ReLU()  # ReLU\n",
        "        self.conv2 = GCNConv(32, dataset.num_classes)\n",
        "        # ------- Add code above -------\n",
        "\n",
        "    def forward(self, data):\n",
        "        x = data.x\n",
        "        edge_index = data.edge_index\n",
        "\n",
        "        # ------- Add code below -------\n",
        "        x = self.conv1(x, edge_index)\n",
        "        x = self.relu(x)\n",
        "        x = self.conv2(x, edge_index)\n",
        "        # ------- Add code above -------\n",
        "\n",
        "        return x\n",
        "\n",
        "net = GCN()\n",
        "net.cuda()"
      ],
      "metadata": {
        "id": "qK35rHV04ln0"
      },
      "execution_count": null,
      "outputs": []
    },
    {
      "cell_type": "code",
      "source": [
        "from torch import optim\n",
        "\n",
        "data = data.cuda()\n",
        "\n",
        "# Cross-Entropy Loss Function\n",
        "loss_fnc = nn.CrossEntropyLoss()\n",
        "\n",
        "# Optimization Algorithm\n",
        "optimizer = optim.Adam(net.parameters())\n",
        "\n",
        "net.train()  # Training Mode\n",
        "for epoch in range(200):\n",
        "    # ------- Add code below -------\n",
        "    optimizer.zero_grad()\n",
        "    out = net(data)\n",
        "    loss = loss_fnc(out[data.train_mask], data.y[data.train_mask])\n",
        "\n",
        "    loss.backward()\n",
        "    optimizer.step()\n",
        "    # ------- Add code above -------"
      ],
      "metadata": {
        "id": "JvpM23PJ4n41"
      },
      "execution_count": null,
      "outputs": []
    }
  ],
  "metadata": {
    "accelerator": "GPU",
    "colab": {
      "provenance": [],
      "include_colab_link": true
    },
    "gpuClass": "standard",
    "kernelspec": {
      "display_name": "Python 3",
      "name": "python3"
    },
    "language_info": {
      "name": "python"
    }
  },
  "nbformat": 4,
  "nbformat_minor": 0
}