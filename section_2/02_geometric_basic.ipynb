{
  "nbformat": 4,
  "nbformat_minor": 0,
  "metadata": {
    "colab": {
      "provenance": [],
      "authorship_tag": "ABX9TyM8ct88OLf/FJi3VUbqh6Bo",
      "include_colab_link": true
    },
    "kernelspec": {
      "name": "python3",
      "display_name": "Python 3"
    },
    "language_info": {
      "name": "python"
    }
  },
  "cells": [
    {
      "cell_type": "markdown",
      "metadata": {
        "id": "view-in-github",
        "colab_type": "text"
      },
      "source": [
        "<a href=\"https://colab.research.google.com/github/yukinaga/gnn/blob/main/section_2/02_geometric_basic.ipynb\" target=\"_parent\"><img src=\"https://colab.research.google.com/assets/colab-badge.svg\" alt=\"Open In Colab\"/></a>"
      ]
    },
    {
      "cell_type": "markdown",
      "metadata": {
        "id": "qBeK8bWc4a_9"
      },
      "source": [
        "# PyTorch Geometricの基礎\n",
        "PyTorch Geometricの使い方を少しずつ学んでいきましょう。"
      ]
    },
    {
      "cell_type": "markdown",
      "metadata": {
        "id": "KcHOX9LyZc2g"
      },
      "source": [
        "## Google ドライブとの連携  \n",
        "今回はライブラリのサイズが大きく毎回インストールするのが大変なので、Googleドライブに保存します。  \n",
        "まずは以下のコードを実行し、認証コードを使用してGoogle ドライブをマウントします。"
      ]
    },
    {
      "cell_type": "code",
      "metadata": {
        "id": "7h7BA67Ed5wT"
      },
      "source": [
        "from google.colab import drive\n",
        "drive.mount(\"/content/drive/\")"
      ],
      "execution_count": null,
      "outputs": []
    },
    {
      "cell_type": "markdown",
      "source": [
        "Googleドライブ上のパスを指定します。"
      ],
      "metadata": {
        "id": "nLxU1W19uDBJ"
      }
    },
    {
      "cell_type": "code",
      "source": [
        "dir_name = \"Live/gnn_live\"  # 好きなパスを設定してください\n",
        "package_path = \"/content/drive/MyDrive/\" + dir_name + \"/packages/\""
      ],
      "metadata": {
        "id": "EnqZq1W7IkzR"
      },
      "execution_count": null,
      "outputs": []
    },
    {
      "cell_type": "markdown",
      "metadata": {
        "id": "ztIkOM_N5Bu7"
      },
      "source": [
        "## PyTorch Geometricのインストール\n",
        "GNN用のライブラリ「PyTorch Geometric」、および関連ライブラリをGoogle Driveのパスを指定してインストールします。"
      ]
    },
    {
      "cell_type": "code",
      "metadata": {
        "id": "SLrzxL39qGie"
      },
      "source": [
        "!pip install pyg-lib torch-scatter torch-sparse -f https://data.pyg.org/whl/torch-1.13.0+cu116.html\n",
        "!pip install torch-geometric"
      ],
      "execution_count": null,
      "outputs": []
    },
    {
      "cell_type": "markdown",
      "source": [
        "Google Driveに保存したパッケージをシステムに追加します。  "
      ],
      "metadata": {
        "id": "c7vHsBUGgb7u"
      }
    },
    {
      "cell_type": "code",
      "source": [
        "import sys\n",
        "\n",
        "sys.path.append(package_path)  "
      ],
      "metadata": {
        "id": "dx1fjOrB-ZPR"
      },
      "execution_count": null,
      "outputs": []
    },
    {
      "cell_type": "markdown",
      "metadata": {
        "id": "EMC135bx6E3u"
      },
      "source": [
        "## グラフを作成する\n",
        "エッジの接続を設定し、有向グラフを作成します。  \n",
        "各ノードには、「特徴量」と「ラベル」を設定することができます。"
      ]
    },
    {
      "cell_type": "code",
      "metadata": {
        "id": "xCg7mgXPqBc8"
      },
      "source": [
        "import torch\n",
        "from torch_geometric.data import Data\n",
        " \n",
        "# エッジの接続\n",
        "edge_from = [0, 1, 2]  # 接続元\n",
        "edge_to = [2, 0, 1]  # 接続先\n",
        "edge_index = torch.tensor([edge_from, edge_to], dtype=torch.long)\n",
        " \n",
        "# 各ノードの特徴量\n",
        "x_0 = [0, 1]\n",
        "x_1 = [2, 3]\n",
        "x_2 = [4, 5]\n",
        "x = torch.tensor([x_0, x_1, x_2], dtype=torch.float)\n",
        " \n",
        "# 各ノードのラベル\n",
        "y_0 = [0]\n",
        "y_1 = [1]\n",
        "y_2 = [2]\n",
        "y = torch.tensor([y_0, y_1, y_2], dtype=torch.float)\n",
        " \n",
        "data = Data(x=x, y=y, edge_index=edge_index)\n",
        "print(data)"
      ],
      "execution_count": null,
      "outputs": []
    },
    {
      "cell_type": "markdown",
      "metadata": {
        "id": "6LcfIq4nWfG2"
      },
      "source": [
        "## グラフの情報を表示\n",
        "グラフの情報を表示するための関数を設定します。"
      ]
    },
    {
      "cell_type": "code",
      "metadata": {
        "id": "3X2TN2rYtCTO"
      },
      "source": [
        "def graph_info(data):\n",
        "\n",
        "    print(\"ノードの数:\", data.num_nodes)\n",
        "    print(\"エッジの数:\", data.num_edges)\n",
        "    print(\"特徴量の数:\", data.num_node_features)\n",
        "    print(\"無向グラフか？:\", data.is_undirected())\n",
        "    print(\"孤立したノードが有るか？:\", data.has_isolated_nodes())\n",
        "    print(\"自己ループがあるか？:\", data.has_self_loops())\n",
        "\n",
        "    print()\n",
        "\n",
        "    print(\"キー: \", data.keys)\n",
        "    print(\"各ノードの特徴量\")\n",
        "    print(data[\"x\"])\n",
        "    print(\"各ノードのラベル\")\n",
        "    print(data[\"y\"])\n",
        "    print(\"各エッジ\")\n",
        "    print(data[\"edge_index\"])"
      ],
      "execution_count": null,
      "outputs": []
    },
    {
      "cell_type": "markdown",
      "source": [
        "この関数を使って、グラフの情報を表示します。"
      ],
      "metadata": {
        "id": "fgdQjcXFlxpb"
      }
    },
    {
      "cell_type": "code",
      "source": [
        "graph_info(data)"
      ],
      "metadata": {
        "id": "Pjfa3mKTlaj8"
      },
      "execution_count": null,
      "outputs": []
    },
    {
      "cell_type": "markdown",
      "source": [
        "グラフは、NetworkXのグラフに変換することで可視化できます"
      ],
      "metadata": {
        "id": "A5ftor1VxpX-"
      }
    },
    {
      "cell_type": "code",
      "source": [
        "from torch_geometric.utils import to_networkx\n",
        "import networkx as nx\n",
        "\n",
        "nxg = to_networkx(data)  # networkxのグラフに変換\n",
        "nx.draw(nxg)"
      ],
      "metadata": {
        "id": "VT2LUUkys9Zf"
      },
      "execution_count": null,
      "outputs": []
    },
    {
      "cell_type": "markdown",
      "metadata": {
        "id": "RZeLe5ktmDCG"
      },
      "source": [
        "## 既存のデータセット\n",
        "大学の空手クラブのデータセット、「Karate club」を読み込みます。  \n",
        "ノードは各メンバーを、エッジは交友関係を表します。  \n",
        "空手クラブはトラブルによりいくつかのグループに分裂したのですが、各メンバーには所属する分裂後のグループを表すラベルが付いています。  \n",
        "\n",
        "以下のコードにより、Karate clubのデータセットを読み込みます。"
      ]
    },
    {
      "cell_type": "code",
      "source": [
        "from torch_geometric.datasets import KarateClub\n",
        "\n",
        "karate_dataset = KarateClub()\n",
        "karate_data = karate_dataset[0]  # 最初のグラフ"
      ],
      "metadata": {
        "id": "BlyKILeKUskH"
      },
      "execution_count": null,
      "outputs": []
    },
    {
      "cell_type": "markdown",
      "source": [
        "関数を使って、データセットの情報を表示します。  "
      ],
      "metadata": {
        "id": "iQ9ic97RWMwp"
      }
    },
    {
      "cell_type": "code",
      "source": [
        "graph_info(karate_data)"
      ],
      "metadata": {
        "id": "IUrvz5-n1IMQ"
      },
      "execution_count": null,
      "outputs": []
    },
    {
      "cell_type": "markdown",
      "source": [
        "NetworkXとmatplotlibを使ってグラフを可視化します。"
      ],
      "metadata": {
        "id": "OudOxYHbXBj1"
      }
    },
    {
      "cell_type": "code",
      "source": [
        "import matplotlib.pyplot as plt\n",
        "\n",
        "karate_nx = to_networkx(karate_data)  # networkxのグラフに変換\n",
        "\n",
        "plt.figure(figsize=(12, 10))\n",
        "nx.draw(karate_nx,\n",
        "        node_color = karate_data.y,\n",
        "        node_size=1000)\n",
        "plt.show()"
      ],
      "metadata": {
        "id": "rYD3_2vL4r7H"
      },
      "execution_count": null,
      "outputs": []
    },
    {
      "cell_type": "markdown",
      "source": [
        "PyTorch Geometricは他にも様々なデータセットを用意しています。  \n",
        "興味のあるかたは、ぜひ公式ドキュメントを読んでみてください。  \n",
        "https://pytorch-geometric.readthedocs.io/en/latest/modules/datasets.html"
      ],
      "metadata": {
        "id": "7dm7ekn1gCa5"
      }
    }
  ]
}