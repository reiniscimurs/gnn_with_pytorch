{
  "nbformat": 4,
  "nbformat_minor": 0,
  "metadata": {
    "colab": {
      "provenance": [],
      "include_colab_link": true
    },
    "kernelspec": {
      "name": "python3",
      "display_name": "Python 3"
    },
    "language_info": {
      "name": "python"
    }
  },
  "cells": [
    {
      "cell_type": "markdown",
      "metadata": {
        "id": "view-in-github",
        "colab_type": "text"
      },
      "source": [
        "<a href=\"https://colab.research.google.com/github/reiniscimurs/gnn_with_pytorch/blob/main/section_2/02_geometric_basic.ipynb\" target=\"_parent\"><img src=\"https://colab.research.google.com/assets/colab-badge.svg\" alt=\"Open In Colab\"/></a>"
      ]
    },
    {
      "cell_type": "markdown",
      "metadata": {
        "id": "qBeK8bWc4a_9"
      },
      "source": [
        "# The Basics of PyTorch Geometric\n",
        "Learning to use PyTorch Geometric."
      ]
    },
    {
      "cell_type": "markdown",
      "metadata": {
        "id": "ztIkOM_N5Bu7"
      },
      "source": [
        "## Installation of PyTorch Geometric\n",
        "We will install the library \"PyTorch Geometric\" and related libraries for Graph Neural Networks (GNNs)."
      ]
    },
    {
      "cell_type": "code",
      "metadata": {
        "id": "SLrzxL39qGie"
      },
      "source": [
        "!pip install torch-geometric\n",
        "!pip install scipy"
      ],
      "execution_count": null,
      "outputs": []
    },
    {
      "cell_type": "markdown",
      "metadata": {
        "id": "EMC135bx6E3u"
      },
      "source": [
        "## Creating a Graph\n",
        "We will set up edge connections and create a directed graph. You can also assign \"features\" and \"labels\" to each node."
      ]
    },
    {
      "cell_type": "code",
      "metadata": {
        "id": "xCg7mgXPqBc8"
      },
      "source": [
        "import torch\n",
        "from torch_geometric.data import Data\n",
        "\n",
        "# Edge connections\n",
        "edge_from = [0, 1, 2]  # Source nodes\n",
        "edge_to = [2, 0, 1]    # Target nodes\n",
        "edge_index = torch.tensor([edge_from, edge_to], dtype=torch.long)\n",
        "\n",
        "# Node features\n",
        "x_0 = [0, 1]\n",
        "x_1 = [2, 3]\n",
        "x_2 = [4, 5]\n",
        "x = torch.tensor([x_0, x_1, x_2], dtype=torch.float)\n",
        "\n",
        "# Node labels\n",
        "y_0 = [0]\n",
        "y_1 = [1]\n",
        "y_2 = [2]\n",
        "y = torch.tensor([y_0, y_1, y_2], dtype=torch.float)\n",
        "\n",
        "# Create a Data object to represent the graph\n",
        "data = Data(x=x, y=y, edge_index=edge_index)\n",
        "\n",
        "# Print the graph data\n",
        "print(data)"
      ],
      "execution_count": null,
      "outputs": []
    },
    {
      "cell_type": "markdown",
      "metadata": {
        "id": "6LcfIq4nWfG2"
      },
      "source": [
        "## Displaying Graph Information\n",
        "We'll set up a function to display information about the graph."
      ]
    },
    {
      "cell_type": "code",
      "metadata": {
        "id": "3X2TN2rYtCTO"
      },
      "source": [
        "def graph_info(data):\n",
        "\n",
        "    print(\"Number of nodes:\", data.num_nodes)\n",
        "    print(\"Number of edges:\", data.num_edges)\n",
        "    print(\"Number of node features:\", data.num_node_features)\n",
        "    print(\"Is it an undirected graph?\", data.is_undirected())\n",
        "    print(\"Are there isolated nodes?\", data.has_isolated_nodes())\n",
        "    print(\"Are there self-loops?\", data.has_self_loops())\n",
        "\n",
        "    print()\n",
        "\n",
        "    print(\"Keys: \", data.keys)\n",
        "    print(\"Node features for each node\")\n",
        "    print(data[\"x\"])\n",
        "    print(\"Node labels for each node\")\n",
        "    print(data[\"y\"])\n",
        "    print(\"Edge connections\")\n",
        "    print(data[\"edge_index\"])"
      ],
      "execution_count": 3,
      "outputs": []
    },
    {
      "cell_type": "markdown",
      "source": [
        "We will use this function to display information about the graph."
      ],
      "metadata": {
        "id": "fgdQjcXFlxpb"
      }
    },
    {
      "cell_type": "code",
      "source": [
        "graph_info(data)"
      ],
      "metadata": {
        "id": "Pjfa3mKTlaj8"
      },
      "execution_count": null,
      "outputs": []
    },
    {
      "cell_type": "markdown",
      "source": [
        "You can visualize the graph by converting it to a NetworkX graph."
      ],
      "metadata": {
        "id": "A5ftor1VxpX-"
      }
    },
    {
      "cell_type": "code",
      "source": [
        "from torch_geometric.utils import to_networkx\n",
        "import networkx as nx\n",
        "\n",
        "nxg = to_networkx(data)  # Converting to a NetworkX Graph\n",
        "nx.draw(nxg)"
      ],
      "metadata": {
        "id": "VT2LUUkys9Zf"
      },
      "execution_count": null,
      "outputs": []
    },
    {
      "cell_type": "markdown",
      "metadata": {
        "id": "RZeLe5ktmDCG"
      },
      "source": [
        "## Loading an Existing Dataset\n",
        "We will load the \"Karate club\" dataset, which represents a university's karate club. In this dataset, nodes represent individual club members, and edges represent friendships or social connections. The karate club experienced a split due to some disputes, and each member is labeled with the group they belong to after the split.\n",
        "\n",
        "The following code will load the Karate club dataset:"
      ]
    },
    {
      "cell_type": "code",
      "source": [
        "from torch_geometric.datasets import KarateClub\n",
        "\n",
        "karate_dataset = KarateClub()\n",
        "karate_data = karate_dataset[0]  # The initial graph"
      ],
      "metadata": {
        "id": "BlyKILeKUskH"
      },
      "execution_count": 6,
      "outputs": []
    },
    {
      "cell_type": "markdown",
      "source": [
        "We will use the function to display information about the dataset."
      ],
      "metadata": {
        "id": "iQ9ic97RWMwp"
      }
    },
    {
      "cell_type": "code",
      "source": [
        "graph_info(karate_data)"
      ],
      "metadata": {
        "id": "IUrvz5-n1IMQ"
      },
      "execution_count": null,
      "outputs": []
    },
    {
      "cell_type": "markdown",
      "source": [
        "Using NetworkX and Matplotlib to Visualize Graphs"
      ],
      "metadata": {
        "id": "OudOxYHbXBj1"
      }
    },
    {
      "cell_type": "code",
      "source": [
        "import matplotlib.pyplot as plt\n",
        "\n",
        "karate_nx = to_networkx(karate_data)  # Converting to a NetworkX Graph\n",
        "\n",
        "plt.figure(figsize=(12, 10))\n",
        "nx.draw(karate_nx,\n",
        "        node_color = karate_data.y,\n",
        "        node_size=1000)\n",
        "plt.show()"
      ],
      "metadata": {
        "id": "rYD3_2vL4r7H"
      },
      "execution_count": null,
      "outputs": []
    },
    {
      "cell_type": "markdown",
      "source": [
        "PyTorch Geometric provides a wide range of datasets for various graph-related tasks. If you're interested, I encourage you to explore the official documentation to learn more about the available datasets and how to use them in your projects.\n",
        "https://pytorch-geometric.readthedocs.io/en/latest/modules/datasets.html"
      ],
      "metadata": {
        "id": "7dm7ekn1gCa5"
      }
    }
  ]
}