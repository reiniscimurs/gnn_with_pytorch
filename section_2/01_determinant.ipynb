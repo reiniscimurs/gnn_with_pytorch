{
  "cells": [
    {
      "cell_type": "markdown",
      "metadata": {
        "id": "view-in-github",
        "colab_type": "text"
      },
      "source": [
        "<a href=\"https://colab.research.google.com/github/reiniscimurs/gnn_with_pytorch/blob/main/section_2/01_determinant.ipynb\" target=\"_parent\"><img src=\"https://colab.research.google.com/assets/colab-badge.svg\" alt=\"Open In Colab\"/></a>"
      ]
    },
    {
      "cell_type": "markdown",
      "metadata": {
        "id": "xb1go0fkmbtm"
      },
      "source": [
        "# Determinant and Inverse Matrix\n",
        "By using the determinant, you can find the \"inverse matrix\" of a matrix. With the inverse matrix, it becomes possible to solve matrix equations."
      ]
    },
    {
      "cell_type": "markdown",
      "metadata": {
        "id": "rGz-K746mbtn"
      },
      "source": [
        "## What is an Identity Matrix？\n",
        "\n",
        "An identity matrix is a matrix that has 1 along its diagonal, 0 everywhere else and looks like the following matrix:\n",
        "\n",
        "$$\n",
        "E = \\left(\n",
        "    \\begin{array}{cc}\n",
        "      1 & 0 \\\\\n",
        "      0 & 1 \\\\\n",
        "    \\end{array}\n",
        "  \\right)\n",
        "$$\n",
        "\n",
        "In an identity matrix, you have ones (1) running from the top-left corner to the bottom-right corner, and all other elements are zeros (0). The example you provided is a 2x2 identity matrix.\n",
        "\n",
        "As shown below, one distinctive feature of the identity matrix is that when you multiply it by another matrix on either side, it does not change the matrix:\n",
        "$$  \\begin{aligned} \\\\\n",
        "   A & = \\left(\n",
        "    \\begin{array}{ccc}\n",
        "      a & b \\\\\n",
        "      c & d \\\\\n",
        "    \\end{array}\n",
        "  \\right) \\\\\n",
        "   EA & = \\left(\n",
        "    \\begin{array}{ccc}\n",
        "      a & b \\\\\n",
        "      c & d \\\\\n",
        "    \\end{array}\n",
        "  \\right) \\\\\n",
        "  AE & = \\left(\n",
        "    \\begin{array}{ccc}\n",
        "      a & b \\\\\n",
        "      c & d \\\\\n",
        "    \\end{array}\n",
        "  \\right) \\\\\n",
        "\\end{aligned} $$"
      ]
    },
    {
      "cell_type": "markdown",
      "metadata": {
        "id": "8MoSUb2smbtn"
      },
      "source": [
        "### Implementation of the Identity Matrix\n",
        "In NumPy, you can create an identity matrix using the `eye()` function."
      ]
    },
    {
      "cell_type": "code",
      "execution_count": null,
      "metadata": {
        "id": "aY_hdnXOmbto",
        "outputId": "413569c8-325b-4752-925e-65b5221987ed"
      },
      "outputs": [
        {
          "name": "stdout",
          "output_type": "stream",
          "text": [
            "[[ 1.  0.]\n",
            " [ 0.  1.]]\n"
          ]
        }
      ],
      "source": [
        "import numpy as np\n",
        "\n",
        "print(np.eye(2))  # Identity Matrix"
      ]
    },
    {
      "cell_type": "markdown",
      "metadata": {
        "id": "u6QZBdmkmbto"
      },
      "source": [
        "## What Is an Inverse Matrix?\n",
        "As shown in the examples below, multiplying a number by its reciprocal results in 1:\n",
        "\n",
        "$$3\\times \\frac{1}{3} = 1$$\n",
        "$$21\\times \\frac{1}{21} = 1$$\n",
        "\n",
        "Similarly, there are matrices that, when multiplied by another matrix, result in the identity matrix. Such matrices are called \"inverse matrices.\" If we denote the inverse of a matrix A as A⁻¹, then the relationship between A and A⁻¹ can be expressed as follows:\n",
        "\n",
        "$$A^{-1}A=AA^{-1}=E$$\n",
        "\n",
        "In this case, A must be a square matrix, meaning it has the same number of rows and columns.\n",
        "\n",
        "For example, the following two matrices, C and D, form an inverse matrix relationship because no matter the order in which you multiply them, the result is always the identity matrix:\n",
        "\n",
        "$$C = \\left(\n",
        "    \\begin{array}{ccc}\n",
        "      1 & 1 \\\\\n",
        "      1 & 2 \\\\\n",
        "    \\end{array}\n",
        "  \\right)\n",
        "$$\n",
        "\n",
        "$$\n",
        "D = \\left(\n",
        "    \\begin{array}{ccc}\n",
        "      2 & -1 \\\\\n",
        "      -1 & 1 \\\\\n",
        "    \\end{array}\n",
        "  \\right)  \n",
        "$$\n",
        "\n",
        "$$\n",
        "CD = DC = \\left(\n",
        "    \\begin{array}{ccc}\n",
        "      1 & 0 \\\\\n",
        "      0 & 1 \\\\\n",
        "    \\end{array}\n",
        "  \\right)  \n",
        "$$"
      ]
    },
    {
      "cell_type": "markdown",
      "metadata": {
        "id": "aKoE6el6mbtp"
      },
      "source": [
        "## Determinant\n",
        "In the case of matrices, there are situations where an inverse matrix may not exist. You can determine the existence of an inverse matrix by calculating the determinant of the matrix. Let's consider the following matrix:\n",
        "\n",
        "$$A = \\left(\n",
        "    \\begin{array}{ccc}\n",
        "      a & b \\\\\n",
        "      c & d \\\\\n",
        "    \\end{array}\n",
        "  \\right) $$\n",
        "\n",
        "The determinant of the matrix, represented as |A| or det(A), is expressed by the following formula:\n",
        "\n",
        "$$|A| = \\det A = ad-bc$$\n",
        "\n",
        "If the determinant of the matrix is equal to 0, then an inverse matrix does not exist.\n",
        "\n",
        "For example, in the case of the following matrix A:\n",
        "$$A = \\left(\n",
        "    \\begin{array}{ccc}\n",
        "      1 & 2 \\\\\n",
        "      3 & 4 \\\\\n",
        "    \\end{array}\n",
        "  \\right) $$\n",
        "\n",
        "Its determinant is 1×4 - 2×3 = -2, so it does have an inverse.  \n",
        "\n",
        "\n",
        "On the other hand, for the following matrix A:\n",
        "\n",
        "$$A = \\left(\n",
        "    \\begin{array}{ccc}\n",
        "      1 & 2 \\\\\n",
        "      0 & 0 \\\\\n",
        "    \\end{array}\n",
        "  \\right) $$\n",
        "\n",
        "Its determinant is 1×0 - 2×0 = 0, so it does not have an inverse.\n",
        "\n",
        "\n",
        "  \n",
        "If an inverse matrix exists, you can calculate it using the following formula:\n",
        "\n",
        "$$A^{-1} = \\frac{1}{ad-bc}\\left(\n",
        "    \\begin{array}{ccc}\n",
        "      d & -b \\\\\n",
        "      -c & a \\\\\n",
        "    \\end{array}\n",
        "  \\right) $$"
      ]
    },
    {
      "cell_type": "markdown",
      "metadata": {
        "id": "68Q4lXDQmbtp"
      },
      "source": [
        "## Implementation of Determinant\n",
        "You can calculate the determinant using the `linalg.det` function in NumPy."
      ]
    },
    {
      "cell_type": "code",
      "execution_count": null,
      "metadata": {
        "id": "rK2txdcAmbtp",
        "outputId": "ae891611-0373-4cd0-e196-afea63e151a8"
      },
      "outputs": [
        {
          "name": "stdout",
          "output_type": "stream",
          "text": [
            "-2.0\n",
            "0.0\n"
          ]
        }
      ],
      "source": [
        "import numpy as np\n",
        "\n",
        "# Matrix 'a' with an inverse matrix\n",
        "a = np.array([[1, 2],\n",
        "              [3, 4]])\n",
        "print(np.linalg.det(a))  # Determinant when an inverse matrix exists\n",
        "\n",
        "# Matrix 'b' without an inverse matrix\n",
        "b = np.array([[1, 2],\n",
        "              [0, 0]])\n",
        "print(np.linalg.det(b))  # Determinant when no inverse matrix exists"
      ]
    },
    {
      "cell_type": "markdown",
      "metadata": {
        "id": "R9raAlGymbtq"
      },
      "source": [
        "## Implementation of Inverse Matrix\n",
        "When an inverse matrix exists, you can calculate it using the `linalg.inv` function in NumPy."
      ]
    },
    {
      "cell_type": "code",
      "execution_count": null,
      "metadata": {
        "id": "5t3NYJ7Smbtq",
        "outputId": "cf301ef3-6897-4cd0-d753-71d0ffbb076e"
      },
      "outputs": [
        {
          "name": "stdout",
          "output_type": "stream",
          "text": [
            "[[-2.   1. ]\n",
            " [ 1.5 -0.5]]\n"
          ]
        }
      ],
      "source": [
        "import numpy as np\n",
        "\n",
        "# Matrix 'a' for which you want to calculate the inverse matrix\n",
        "a = np.array([[1, 2],\n",
        "              [3, 4]])\n",
        "\n",
        "# Calculate the inverse matrix of 'a'\n",
        "inverse_a = np.linalg.inv(a)\n",
        "\n",
        "# Print the result\n",
        "print(inverse_a)  # The inverse matrix of 'a'"
      ]
    },
    {
      "cell_type": "markdown",
      "metadata": {
        "id": "qIZonipWmbtq"
      },
      "source": [
        "When calculating the inverse matrix for larger square matrices with more rows and columns, manual methods like cofactor expansion or adjugate matrices can become quite complex. However, even in such cases, you can easily compute the inverse matrix using the `linalg.inv` function in NumPy."
      ]
    }
  ],
  "metadata": {
    "kernelspec": {
      "display_name": "Python 3",
      "language": "python",
      "name": "python3"
    },
    "language_info": {
      "codemirror_mode": {
        "name": "ipython",
        "version": 3
      },
      "file_extension": ".py",
      "mimetype": "text/x-python",
      "name": "python",
      "nbconvert_exporter": "python",
      "pygments_lexer": "ipython3",
      "version": "3.5.4"
    },
    "colab": {
      "name": "01_determinant.ipynb",
      "provenance": [],
      "include_colab_link": true
    }
  },
  "nbformat": 4,
  "nbformat_minor": 0
}