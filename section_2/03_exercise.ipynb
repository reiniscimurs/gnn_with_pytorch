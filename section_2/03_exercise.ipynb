{
  "nbformat": 4,
  "nbformat_minor": 0,
  "metadata": {
    "colab": {
      "provenance": [],
      "authorship_tag": "ABX9TyPdVD+3suOvQ5sSTxnulv7M",
      "include_colab_link": true
    },
    "kernelspec": {
      "name": "python3",
      "display_name": "Python 3"
    },
    "language_info": {
      "name": "python"
    }
  },
  "cells": [
    {
      "cell_type": "markdown",
      "metadata": {
        "id": "view-in-github",
        "colab_type": "text"
      },
      "source": [
        "<a href=\"https://colab.research.google.com/github/yukinaga/gnn/blob/main/section_2/03_exercise.ipynb\" target=\"_parent\"><img src=\"https://colab.research.google.com/assets/colab-badge.svg\" alt=\"Open In Colab\"/></a>"
      ]
    },
    {
      "cell_type": "markdown",
      "metadata": {
        "id": "qBeK8bWc4a_9"
      },
      "source": [
        "# 演習\n",
        "データセット「Airports」を読み込み、グラフを可視化しましょう。"
      ]
    },
    {
      "cell_type": "markdown",
      "metadata": {
        "id": "KcHOX9LyZc2g"
      },
      "source": [
        "## Google ドライブとの連携  \n",
        "（2022.12.10更新 バージョンアップによりPyTorch Geometricのインストール速度が向上したため、Google Driveを使う必要がなくなりました）  \n",
        "~~今回はライブラリのサイズが大きく毎回インストールするのが大変なので、Googleドライブに保存します。  \n",
        "まずは以下のコードを実行し、認証コードを使用してGoogle ドライブをマウントします。~~"
      ]
    },
    {
      "cell_type": "code",
      "metadata": {
        "id": "7h7BA67Ed5wT"
      },
      "source": [
        "# from google.colab import drive\n",
        "# drive.mount(\"/content/drive/\")"
      ],
      "execution_count": null,
      "outputs": []
    },
    {
      "cell_type": "markdown",
      "source": [
        "~~Googleドライブ上のパスを指定します。~~"
      ],
      "metadata": {
        "id": "nLxU1W19uDBJ"
      }
    },
    {
      "cell_type": "code",
      "source": [
        "# dir_name = \"Live/gnn_live\"  # 好きなパスを設定してください\n",
        "# package_path = \"/content/drive/MyDrive/\" + dir_name + \"/packages/\""
      ],
      "metadata": {
        "id": "EnqZq1W7IkzR"
      },
      "execution_count": null,
      "outputs": []
    },
    {
      "cell_type": "markdown",
      "metadata": {
        "id": "ztIkOM_N5Bu7"
      },
      "source": [
        "## PyTorch Geometricのインストール\n",
        "GNN用のライブラリ「PyTorch Geometric」、および関連ライブラリをインストールします。"
      ]
    },
    {
      "cell_type": "code",
      "metadata": {
        "id": "SLrzxL39qGie"
      },
      "source": [
        "!pip install pyg-lib torch-scatter torch-sparse -f https://data.pyg.org/whl/torch-1.13.0+cu116.html\n",
        "!pip install torch-geometric\n",
        "!pip install scipy==1.8.0"
      ],
      "execution_count": null,
      "outputs": []
    },
    {
      "cell_type": "markdown",
      "source": [
        "~~Google Driveに保存したパッケージをシステムに追加します。  ~~"
      ],
      "metadata": {
        "id": "c7vHsBUGgb7u"
      }
    },
    {
      "cell_type": "code",
      "source": [
        "# import sys\n",
        "\n",
        "# sys.path.append(package_path)  "
      ],
      "metadata": {
        "id": "dx1fjOrB-ZPR"
      },
      "execution_count": null,
      "outputs": []
    },
    {
      "cell_type": "markdown",
      "metadata": {
        "id": "6LcfIq4nWfG2"
      },
      "source": [
        "グラフの情報を表示するための関数を設定します。"
      ]
    },
    {
      "cell_type": "code",
      "metadata": {
        "id": "3X2TN2rYtCTO"
      },
      "source": [
        "def graph_info(data):\n",
        "\n",
        "    print(\"ノードの数:\", data.num_nodes)\n",
        "    print(\"エッジの数:\", data.num_edges)\n",
        "    print(\"特徴量の数:\", data.num_node_features)\n",
        "    print(\"無向グラフか？:\", data.is_undirected())\n",
        "    print(\"孤立したノードが有るか？:\", data.has_isolated_nodes())\n",
        "    print(\"自己ループがあるか？:\", data.has_self_loops())\n",
        "\n",
        "    print()\n",
        "\n",
        "    print(\"キー: \", data.keys)\n",
        "    print(\"各ノードの特徴量\")\n",
        "    print(data[\"x\"])\n",
        "    print(\"各ノードのラベル\")\n",
        "    print(data[\"y\"])\n",
        "    print(\"各エッジ\")\n",
        "    print(data[\"edge_index\"])"
      ],
      "execution_count": null,
      "outputs": []
    },
    {
      "cell_type": "markdown",
      "metadata": {
        "id": "RZeLe5ktmDCG"
      },
      "source": [
        "## 「Airports」のグラフを表示\n",
        "空港のネットワークをグラフで表すデータセット、「Airports」を読み込みます。  \n",
        "https://pytorch-geometric.readthedocs.io/en/latest/modules/datasets.html#torch_geometric.datasets.Airports  \n",
        "ノードは各空港を表します。    \n",
        "\n",
        "以下のコードにより、Airportsのデータセットを読み込みます。"
      ]
    },
    {
      "cell_type": "code",
      "source": [
        "from torch_geometric.datasets import Airports\n",
        "\n",
        "airports_dataset = Airports(root=\"/tmp/USA\", name=\"USA\")\n",
        "airports_data = airports_dataset[0]"
      ],
      "metadata": {
        "id": "BlyKILeKUskH"
      },
      "execution_count": null,
      "outputs": []
    },
    {
      "cell_type": "markdown",
      "source": [
        "関数を使って、データセットの情報を表示します。  "
      ],
      "metadata": {
        "id": "iQ9ic97RWMwp"
      }
    },
    {
      "cell_type": "code",
      "source": [
        "graph_info(airports_data)"
      ],
      "metadata": {
        "id": "IUrvz5-n1IMQ"
      },
      "execution_count": null,
      "outputs": []
    },
    {
      "cell_type": "markdown",
      "source": [
        "NetworkXとmatplotlibを使って、グラフを可視化しましょう。"
      ],
      "metadata": {
        "id": "OudOxYHbXBj1"
      }
    },
    {
      "cell_type": "code",
      "source": [
        "from torch_geometric.utils import to_networkx\n",
        "import networkx as nx\n",
        "import matplotlib.pyplot as plt\n",
        "\n",
        "airports_nx = to_networkx(airports_data)  # networkxのグラフに変換\n",
        "\n",
        "# ------- 以下にコードを書く -------\n",
        "\n",
        "\n",
        "\n",
        "\n",
        "\n",
        "# ------- ここまで -------"
      ],
      "metadata": {
        "id": "rYD3_2vL4r7H"
      },
      "execution_count": null,
      "outputs": []
    },
    {
      "cell_type": "markdown",
      "metadata": {
        "id": "BEW_lUs3PJCQ"
      },
      "source": [
        "### 〇解答例\n",
        "以下は解答例です。"
      ]
    },
    {
      "cell_type": "code",
      "source": [
        "from torch_geometric.utils import to_networkx\n",
        "import networkx as nx\n",
        "import matplotlib.pyplot as plt\n",
        "\n",
        "airports_nx = to_networkx(airports_data)  # networkxのグラフに変換\n",
        "\n",
        "# ------- 以下にコードを書く -------\n",
        "plt.figure(figsize=(12, 10))\n",
        "nx.draw(airports_nx,\n",
        "        node_color = airports_data.y,\n",
        "        node_size=100)\n",
        "plt.show()\n",
        "# ------- ここまで -------"
      ],
      "metadata": {
        "id": "yLw0Ie6Uc0k9"
      },
      "execution_count": null,
      "outputs": []
    }
  ]
}