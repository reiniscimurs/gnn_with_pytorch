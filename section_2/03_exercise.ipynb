{
  "nbformat": 4,
  "nbformat_minor": 0,
  "metadata": {
    "colab": {
      "provenance": [],
      "include_colab_link": true
    },
    "kernelspec": {
      "name": "python3",
      "display_name": "Python 3"
    },
    "language_info": {
      "name": "python"
    }
  },
  "cells": [
    {
      "cell_type": "markdown",
      "metadata": {
        "id": "view-in-github",
        "colab_type": "text"
      },
      "source": [
        "<a href=\"https://colab.research.google.com/github/reiniscimurs/gnn_with_pytorch/blob/main/section_2/03_exercise.ipynb\" target=\"_parent\"><img src=\"https://colab.research.google.com/assets/colab-badge.svg\" alt=\"Open In Colab\"/></a>"
      ]
    },
    {
      "cell_type": "markdown",
      "metadata": {
        "id": "qBeK8bWc4a_9"
      },
      "source": [
        "# Exercise\n",
        "Load the dataset \"Airports\" and visualize the graph."
      ]
    },
    {
      "cell_type": "markdown",
      "metadata": {
        "id": "ztIkOM_N5Bu7"
      },
      "source": [
        "## Installation of PyTorch Geometric:\n",
        "Install the library \"PyTorch Geometric\" for Graph Neural Networks (GNNs) and its related libraries."
      ]
    },
    {
      "cell_type": "code",
      "metadata": {
        "id": "SLrzxL39qGie"
      },
      "source": [
        "!pip install torch-geometric\n",
        "!pip install scipy"
      ],
      "execution_count": null,
      "outputs": []
    },
    {
      "cell_type": "markdown",
      "metadata": {
        "id": "6LcfIq4nWfG2"
      },
      "source": [
        "Setting up a function to display graph information."
      ]
    },
    {
      "cell_type": "code",
      "metadata": {
        "id": "3X2TN2rYtCTO"
      },
      "source": [
        "def graph_info(data):\n",
        "\n",
        "    print(\"Number of nodes:\", data.num_nodes)\n",
        "    print(\"Number of edges:\", data.num_edges)\n",
        "    print(\"Number of node features:\", data.num_node_features)\n",
        "    print(\"Is it an undirected graph?\", data.is_undirected())\n",
        "    print(\"Are there isolated nodes?\", data.has_isolated_nodes())\n",
        "    print(\"Are there self-loops?\", data.has_self_loops())\n",
        "\n",
        "    print()\n",
        "\n",
        "    print(\"Keys: \", data.keys)\n",
        "    print(\"Node features for each node\")\n",
        "    print(data[\"x\"])\n",
        "    print(\"Node labels for each node\")\n",
        "    print(data[\"y\"])\n",
        "    print(\"Edges\")\n",
        "    print(data[\"edge_index\"])"
      ],
      "execution_count": 2,
      "outputs": []
    },
    {
      "cell_type": "markdown",
      "metadata": {
        "id": "RZeLe5ktmDCG"
      },
      "source": [
        "## Displaying the Graph of \"Airports\"\n",
        "Load the dataset \"Airports,\" which represents a network of airports using a graph. You can find more information about this dataset at the following link: https://pytorch-geometric.readthedocs.io/en/latest/modules/datasets.html#torch_geometric.datasets.Airports\n",
        "Each node in the graph represents an airport."
      ]
    },
    {
      "cell_type": "code",
      "source": [
        "from torch_geometric.datasets import Airports\n",
        "\n",
        "airports_dataset = Airports(root=\"/tmp/USA\", name=\"USA\")\n",
        "airports_data = airports_dataset[0]"
      ],
      "metadata": {
        "id": "BlyKILeKUskH"
      },
      "execution_count": null,
      "outputs": []
    },
    {
      "cell_type": "markdown",
      "source": [
        "Using the function to display dataset information:"
      ],
      "metadata": {
        "id": "iQ9ic97RWMwp"
      }
    },
    {
      "cell_type": "code",
      "source": [
        "graph_info(airports_data)"
      ],
      "metadata": {
        "id": "IUrvz5-n1IMQ"
      },
      "execution_count": null,
      "outputs": []
    },
    {
      "cell_type": "markdown",
      "source": [
        "Visualize the graph using NetworkX and matplotlib."
      ],
      "metadata": {
        "id": "OudOxYHbXBj1"
      }
    },
    {
      "cell_type": "code",
      "source": [
        "from torch_geometric.utils import to_networkx\n",
        "import networkx as nx\n",
        "import matplotlib.pyplot as plt\n",
        "\n",
        "airports_nx = to_networkx(airports_data)  # Convert to a networkx graph\n",
        "\n",
        "# ------- Write your code below -------\n",
        "\n",
        "\n",
        "\n",
        "\n",
        "\n",
        "# ------- End of code -------"
      ],
      "metadata": {
        "id": "rYD3_2vL4r7H"
      },
      "execution_count": 5,
      "outputs": []
    },
    {
      "cell_type": "markdown",
      "metadata": {
        "id": "BEW_lUs3PJCQ"
      },
      "source": [
        "\n",
        "Here is an example answer:"
      ]
    },
    {
      "cell_type": "code",
      "source": [
        "from torch_geometric.utils import to_networkx\n",
        "import networkx as nx\n",
        "import matplotlib.pyplot as plt\n",
        "\n",
        "airports_nx = to_networkx(airports_data)  # Convert to a NetworkX graph\n",
        "\n",
        "# ------- Write your code below -------\n",
        "plt.figure(figsize=(12, 10))\n",
        "nx.draw(airports_nx,\n",
        "        node_color=airports_data.y,\n",
        "        node_size=100)\n",
        "plt.show()\n",
        "# ------- End of code -------"
      ],
      "metadata": {
        "id": "yLw0Ie6Uc0k9"
      },
      "execution_count": null,
      "outputs": []
    }
  ]
}