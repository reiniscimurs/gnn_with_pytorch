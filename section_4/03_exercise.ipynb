{
  "cells": [
    {
      "cell_type": "markdown",
      "metadata": {
        "id": "view-in-github",
        "colab_type": "text"
      },
      "source": [
        "<a href=\"https://colab.research.google.com/github/reiniscimurs/gnn_with_pytorch/blob/main/section_4/03_exercise.ipynb\" target=\"_parent\"><img src=\"https://colab.research.google.com/assets/colab-badge.svg\" alt=\"Open In Colab\"/></a>"
      ]
    },
    {
      "cell_type": "markdown",
      "metadata": {
        "id": "qBeK8bWc4a_9"
      },
      "source": [
        "# Exercise\n",
        "Training using the dataset \"ENZYMES\" with the GCN model. Please provide code for constructing the model and training it. Since GPU will be used for learning, select \"GPU\" in \"Edit\" -> \"Notebook Settings\" -> \"Hardware Accelerator.\""
      ]
    },
    {
      "cell_type": "markdown",
      "metadata": {
        "id": "ztIkOM_N5Bu7"
      },
      "source": [
        "## Installing PyTorch Geometric\n",
        "Install the library \"PyTorch Geometric\" for Graph Neural Networks (GNN) along with related libraries."
      ]
    },
    {
      "cell_type": "code",
      "metadata": {
        "id": "SLrzxL39qGie"
      },
      "source": [
        "!pip install pyg-lib torch-scatter torch-sparse -f https://data.pyg.org/whl/torch-1.13.0+cu116.html\n",
        "!pip install torch-geometric\n",
        "!pip install scipy==1.8.0"
      ],
      "execution_count": null,
      "outputs": []
    },
    {
      "cell_type": "markdown",
      "metadata": {
        "id": "RZeLe5ktmDCG"
      },
      "source": [
        "## Loading the Dataset\n",
        "Load the dataset 'ENZYMES' from the TUDataset, which contains 600 graphs.\n"
      ]
    },
    {
      "cell_type": "code",
      "execution_count": null,
      "metadata": {
        "id": "BlyKILeKUskH"
      },
      "outputs": [],
      "source": [
        "from torch_geometric.datasets import TUDataset\n",
        "from torch_geometric.loader import DataLoader\n",
        "\n",
        "# ENZYMES dataset loading from TUDataset with root directory set to \"/tmp/ENZYMES\"\n",
        "dataset = TUDataset(root=\"/tmp/ENZYMES\", name=\"ENZYMES\")\n",
        "\n",
        "print(\"Number of graphs:\", len(dataset))\n",
        "print(\"Number of classes:\", dataset.num_classes)\n",
        "\n",
        "dataset = dataset.shuffle()  # Shuffle the dataset\n",
        "dataset_train = dataset[:500]  # Training dataset\n",
        "dataset_test = dataset[500:]  # Test dataset\n",
        "\n",
        "batch_size = 64  # Batch size\n",
        "loader_train = DataLoader(dataset_train, batch_size=batch_size, shuffle=True)\n",
        "loader_test = DataLoader(dataset_test, batch_size=batch_size, shuffle=False)"
      ]
    },
    {
      "cell_type": "markdown",
      "metadata": {
        "id": "Q2s4JTtLh_cO"
      },
      "source": [
        "## Model Construction\n",
        "Please add code to the following cell to complete the class for the GCN model. Utilize `GCNConv()` and `nn.Linear()`.\n",
        "\n",
        "https://pytorch-geometric.readthedocs.io/en/latest/modules/nn.html#torch_geometric.nn.conv.GCNConv  \n",
        "https://pytorch.org/docs/stable/generated/torch.nn.Linear.html  "
      ]
    },
    {
      "cell_type": "code",
      "execution_count": null,
      "metadata": {
        "id": "EGMeG-bgldbu"
      },
      "outputs": [],
      "source": [
        "import torch\n",
        "import torch.nn as nn\n",
        "from torch_geometric.nn import GCNConv, global_mean_pool\n",
        "\n",
        "n_h = 64  # Number of features in the hidden layer\n",
        "\n",
        "class GCN(nn.Module):\n",
        "    def __init__(self):\n",
        "        super().__init__()\n",
        "        # ------- Add code below -------\n",
        "\n",
        "\n",
        "\n",
        "        # ------- Add code above -------\n",
        "\n",
        "        self.relu = nn.ReLU()  # ReLU\n",
        "        self.dropout = nn.Dropout(p=0.5)  # Dropout: (p=dropout rate)\n",
        "\n",
        "    def forward(self, data):\n",
        "        x = data.x\n",
        "        edge_index = data.edge_index\n",
        "        batch = data.batch\n",
        "\n",
        "        x = self.conv1(x, edge_index)\n",
        "        x = self.relu(x)\n",
        "        x = self.conv2(x, edge_index)\n",
        "        x = self.relu(x)\n",
        "        x = self.conv3(x, edge_index)\n",
        "\n",
        "        # Take the mean of each feature across all nodes\n",
        "        x = global_mean_pool(x, batch)  # Convert to (batch_size, number of features)\n",
        "\n",
        "        x = self.dropout(x)\n",
        "\n",
        "        # Add fully connected layers if needed\n",
        "        # Example:\n",
        "        # x = self.lin1(x)\n",
        "        # x = self.lin2(x)\n",
        "\n",
        "        return x\n",
        "\n",
        "net = GCN()\n",
        "net.cuda()  # GPU support"
      ]
    },
    {
      "cell_type": "markdown",
      "metadata": {
        "id": "qP9O1HhFikx-"
      },
      "source": [
        "## Training"
      ]
    },
    {
      "cell_type": "markdown",
      "source": [
        "Prepare a function for model evaluation."
      ],
      "metadata": {
        "id": "RvQn3Apg_Ig_"
      }
    },
    {
      "cell_type": "code",
      "source": [
        "def evaluate(loader):\n",
        "    correct = 0  # Number of correct predictions\n",
        "\n",
        "    for data in loader:\n",
        "        data = data.cuda()  # GPU support\n",
        "        out = net(data)\n",
        "        pred = out.argmax(dim=1)\n",
        "        correct += int((pred == data.y).sum())\n",
        "\n",
        "    return correct / len(loader.dataset)  # Accuracy"
      ],
      "metadata": {
        "id": "vwqxhW52_Phq"
      },
      "execution_count": null,
      "outputs": []
    },
    {
      "cell_type": "markdown",
      "source": [
        "Let's train the model using the training data of 'ENZYMES'. Please add code to the following cell to train the model using mini-batch method.  "
      ],
      "metadata": {
        "id": "cLmtIpUR_Olw"
      }
    },
    {
      "cell_type": "code",
      "execution_count": null,
      "metadata": {
        "id": "rfv35TJsnNcZ"
      },
      "outputs": [],
      "source": [
        "from torch import optim\n",
        "\n",
        "# Cross-entropy loss function\n",
        "loss_fnc = nn.CrossEntropyLoss()\n",
        "\n",
        "# Optimization algorithm\n",
        "optimizer = optim.Adam(net.parameters())\n",
        "\n",
        "for epoch in range(1000):\n",
        "    # Training\n",
        "    net.train()  # Set to training mode\n",
        "    # ------- Add code below -------\n",
        "\n",
        "\n",
        "\n",
        "\n",
        "    # ------- Add code above -------\n",
        "\n",
        "    # Evaluation\n",
        "    net.eval()  # Set to evaluation mode\n",
        "    acc_train = evaluate(loader_train)\n",
        "    acc_test = evaluate(loader_test)\n",
        "    print(\"Epoch:\", epoch,\n",
        "          \"acc_train:\", str(acc_train*100) + \"%\",\n",
        "          \"acc_test:\", str(acc_test*100) + \"%\")"
      ]
    },
    {
      "cell_type": "markdown",
      "metadata": {
        "id": "n3rn17KTjLSr"
      },
      "source": [
        "## Model Evaluation\n",
        "Evaluate the trained model."
      ]
    },
    {
      "cell_type": "code",
      "execution_count": null,
      "metadata": {
        "id": "B7K0lvg0nQL4"
      },
      "outputs": [],
      "source": [
        "net.eval()  # Set to evaluation mode\n",
        "acc_test = evaluate(loader_test)\n",
        "print(\"Accuracy:\", str(acc_test*100) + \"%\")"
      ]
    },
    {
      "cell_type": "markdown",
      "metadata": {
        "id": "BEW_lUs3PJCQ"
      },
      "source": [
        "### Example Solution\n",
        "The following is an example solution."
      ]
    },
    {
      "cell_type": "code",
      "source": [
        "import torch\n",
        "import torch.nn as nn\n",
        "from torch_geometric.nn import GCNConv, global_mean_pool\n",
        "\n",
        "n_h = 64  # Number of features in the hidden layer\n",
        "\n",
        "class GCN(nn.Module):\n",
        "    def __init__(self):\n",
        "        super().__init__()\n",
        "        # ------- Add code below -------\n",
        "        self.conv1 = GCNConv(dataset.num_node_features, n_h)\n",
        "        self.conv2 = GCNConv(n_h, n_h)\n",
        "        self.conv3 = GCNConv(n_h, n_h)\n",
        "        self.fc = nn.Linear(n_h, dataset.num_classes)  # Fully connected layer\n",
        "        # ------- Add code above -------\n",
        "\n",
        "        self.relu = nn.ReLU()  # ReLU\n",
        "        self.dropout = nn.Dropout(p=0.5)  # Dropout: (p=dropout rate)\n",
        "\n",
        "    def forward(self, data):\n",
        "        x = data.x\n",
        "        edge_index = data.edge_index\n",
        "        batch = data.batch\n",
        "\n",
        "        x = self.conv1(x, edge_index)\n",
        "        x = self.relu(x)\n",
        "        x = self.conv2(x, edge_index)\n",
        "        x = self.relu(x)\n",
        "        x = self.conv3(x, edge_index)\n",
        "\n",
        "        # Take the mean of each feature across all nodes\n",
        "        x = global_mean_pool(x, batch)  # Convert to (batch_size, number of features)\n",
        "\n",
        "        x = self.dropout(x)\n",
        "        x = self.fc(x)\n",
        "\n",
        "        return x\n",
        "\n",
        "net = GCN()\n",
        "net.cuda()  # GPU support"
      ],
      "metadata": {
        "id": "30Fy__m2Vvft"
      },
      "execution_count": null,
      "outputs": []
    },
    {
      "cell_type": "code",
      "source": [
        "from torch import optim\n",
        "\n",
        "# Cross-entropy loss function\n",
        "loss_fnc = nn.CrossEntropyLoss()\n",
        "\n",
        "# Optimization algorithm\n",
        "optimizer = optim.Adam(net.parameters())\n",
        "\n",
        "for epoch in range(1000):\n",
        "    # Training\n",
        "    net.train()  # Set to training mode\n",
        "    # ------- Add code below -------\n",
        "    for data in loader_train:\n",
        "        data = data.cuda()  # GPU support\n",
        "\n",
        "        optimizer.zero_grad()  # Step ①: Initialize gradients\n",
        "        out = net(data)  # Step ②: Obtain predictions through forward pass\n",
        "        loss = loss_fnc(out, data.y)  # Step ③: Calculate loss from predictions and ground truth\n",
        "\n",
        "        loss.backward()  # Step ④: Backpropagate gradients to calculate gradients\n",
        "        optimizer.step()  # Step ⑤: Update parameters using the optimization algorithm\n",
        "    # ------- Add code above -------\n",
        "\n",
        "    # Evaluation\n",
        "    net.eval()  # Set to evaluation mode\n",
        "    acc_train = evaluate(loader_train)\n",
        "    acc_test = evaluate(loader_test)\n",
        "    print(\"Epoch:\", epoch,\n",
        "          \"acc_train:\", str(acc_train*100) + \"%\",\n",
        "          \"acc_test:\", str(acc_test*100) + \"%\")"
      ],
      "metadata": {
        "id": "QWZeQstKVwTO"
      },
      "execution_count": null,
      "outputs": []
    }
  ],
  "metadata": {
    "accelerator": "GPU",
    "colab": {
      "provenance": [],
      "include_colab_link": true
    },
    "gpuClass": "standard",
    "kernelspec": {
      "display_name": "Python 3",
      "name": "python3"
    },
    "language_info": {
      "name": "python"
    }
  },
  "nbformat": 4,
  "nbformat_minor": 0
}