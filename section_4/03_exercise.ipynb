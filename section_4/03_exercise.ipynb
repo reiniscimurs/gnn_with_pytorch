{
  "cells": [
    {
      "cell_type": "markdown",
      "metadata": {
        "id": "view-in-github",
        "colab_type": "text"
      },
      "source": [
        "<a href=\"https://colab.research.google.com/github/yukinaga/gnn/blob/main/section_4/03_exercise.ipynb\" target=\"_parent\"><img src=\"https://colab.research.google.com/assets/colab-badge.svg\" alt=\"Open In Colab\"/></a>"
      ]
    },
    {
      "cell_type": "markdown",
      "metadata": {
        "id": "qBeK8bWc4a_9"
      },
      "source": [
        "# 演習\n",
        "データセット「ENZYMES」を使い、GCNのモデルを訓練します。  \n",
        "モデルの構築、およびモデルの訓練のコードを記述してください。  \n",
        "学習にGPUを利用するので、「編集」→「ノートブックの設定」の「ハードウェアアクセラレーター」で「GPU」を選択しましょう。"
      ]
    },
    {
      "cell_type": "markdown",
      "metadata": {
        "id": "KcHOX9LyZc2g"
      },
      "source": [
        "## Google ドライブとの連携  \n",
        "以下のコードを実行し、認証コードを使用してGoogle ドライブをマウントします。"
      ]
    },
    {
      "cell_type": "code",
      "execution_count": null,
      "metadata": {
        "id": "7h7BA67Ed5wT"
      },
      "outputs": [],
      "source": [
        "from google.colab import drive\n",
        "drive.mount(\"/content/drive/\")"
      ]
    },
    {
      "cell_type": "markdown",
      "metadata": {
        "id": "nLxU1W19uDBJ"
      },
      "source": [
        "Googleドライブ上のパスを指定します。"
      ]
    },
    {
      "cell_type": "code",
      "execution_count": null,
      "metadata": {
        "id": "EnqZq1W7IkzR"
      },
      "outputs": [],
      "source": [
        "dir_name = \"Live/gnn_live\"  # 好きなパスを設定してください\n",
        "package_path = \"/content/drive/MyDrive/\" + dir_name + \"/packages/\""
      ]
    },
    {
      "cell_type": "markdown",
      "metadata": {
        "id": "c7vHsBUGgb7u"
      },
      "source": [
        "Google Driveに保存したパッケージをシステムに追加します。  "
      ]
    },
    {
      "cell_type": "code",
      "execution_count": null,
      "metadata": {
        "id": "dx1fjOrB-ZPR"
      },
      "outputs": [],
      "source": [
        "import sys\n",
        "\n",
        "sys.path.append(package_path)  "
      ]
    },
    {
      "cell_type": "markdown",
      "metadata": {
        "id": "RZeLe5ktmDCG"
      },
      "source": [
        "## データセットの読み込み\n",
        "TUDatasetから、600のグラフが含まれるデータセット「ENZYMES」を読み込みます。  \n"
      ]
    },
    {
      "cell_type": "code",
      "execution_count": null,
      "metadata": {
        "id": "BlyKILeKUskH"
      },
      "outputs": [],
      "source": [
        "from torch_geometric.datasets import TUDataset\n",
        "from torch_geometric.loader import DataLoader\n",
        "\n",
        "dataset = TUDataset(root=\"/tmp/ENZYMES\", name=\"ENZYMES\")\n",
        "\n",
        "print(\"グラフの数:\", len(dataset))\n",
        "print(\"クラスの数:\", dataset.num_classes)\n",
        "\n",
        "dataset = dataset.shuffle()  # データセットをシャッフル\n",
        "dataset_train = dataset[:500]  # 訓練用データセット\n",
        "dataset_test = dataset[500:]  # テスト用データセット\n",
        "\n",
        "batch_size = 64  # バッチサイズ\n",
        "loader_train = DataLoader(dataset_train, batch_size=batch_size, shuffle=True)\n",
        "loader_test = DataLoader(dataset_test, batch_size=batch_size, shuffle=False)"
      ]
    },
    {
      "cell_type": "markdown",
      "metadata": {
        "id": "Q2s4JTtLh_cO"
      },
      "source": [
        "## モデルの構築\n",
        "以下のセルにコードを追記して、GCNのモデルのクラスを完成させてください。  \n",
        "`GCNConv()`と`nn.Linear()`を使います。  \n",
        "https://pytorch-geometric.readthedocs.io/en/latest/modules/nn.html#torch_geometric.nn.conv.GCNConv  \n",
        "https://pytorch.org/docs/stable/generated/torch.nn.Linear.html  "
      ]
    },
    {
      "cell_type": "code",
      "execution_count": null,
      "metadata": {
        "id": "EGMeG-bgldbu"
      },
      "outputs": [],
      "source": [
        "import torch\n",
        "import torch.nn as nn\n",
        "from torch_geometric.nn import GCNConv\n",
        "from torch_geometric.nn import global_mean_pool\n",
        "\n",
        "n_h = 64  # 中間層における特徴量の数\n",
        "\n",
        "class GCN(nn.Module):\n",
        "    def __init__(self):\n",
        "        super().__init__()\n",
        "        # ------- 以下にコードを書く -------\n",
        "\n",
        "\n",
        "\n",
        "\n",
        "        # ------- ここまで -------\n",
        "\n",
        "        self.relu = nn.ReLU()  # ReLU\n",
        "        self.dropout = nn.Dropout(p=0.5)  # ドロップアウト:(p=ドロップアウト率)\n",
        "\n",
        "    def forward(self, data):\n",
        "        x = data.x\n",
        "        edge_index = data.edge_index\n",
        "        batch = data.batch\n",
        "\n",
        "        x = self.conv1(x, edge_index)\n",
        "        x = self.relu(x)\n",
        "        x = self.conv2(x, edge_index)\n",
        "        x = self.relu(x)\n",
        "        x = self.conv3(x, edge_index)\n",
        "\n",
        "        # 全てのノードで各特徴量の平均をとる\n",
        "        x = global_mean_pool(x, batch)  # (バッチサイズ, 特徴量の数)に変換\n",
        "\n",
        "        x = self.dropout(x)\n",
        "        x = self.fc(x)\n",
        "        \n",
        "        return x\n",
        "\n",
        "net = GCN()\n",
        "net.cuda()  #GPU対応"
      ]
    },
    {
      "cell_type": "markdown",
      "metadata": {
        "id": "qP9O1HhFikx-"
      },
      "source": [
        "## 学習"
      ]
    },
    {
      "cell_type": "markdown",
      "source": [
        "モデル評価用の関数を用意します。"
      ],
      "metadata": {
        "id": "RvQn3Apg_Ig_"
      }
    },
    {
      "cell_type": "code",
      "source": [
        "def eval(loader):\n",
        "    correct = 0  # 正解数\n",
        "\n",
        "    for data in loader:\n",
        "        data = data.cuda()  # GPU対応\n",
        "        out = net(data)  \n",
        "        pred = out.argmax(dim=1)\n",
        "        correct += int((pred == data.y).sum())\n",
        "\n",
        "    return correct/len(loader.dataset)  # 正解率"
      ],
      "metadata": {
        "id": "vwqxhW52_Phq"
      },
      "execution_count": null,
      "outputs": []
    },
    {
      "cell_type": "markdown",
      "source": [
        "「ENZYMES」の訓練データを使ってモデルを訓練しましょう。  \n",
        "以下のセルに　、ミニバッチ法を使ってモデルを訓練するコードを追記してください。  "
      ],
      "metadata": {
        "id": "cLmtIpUR_Olw"
      }
    },
    {
      "cell_type": "code",
      "execution_count": null,
      "metadata": {
        "id": "rfv35TJsnNcZ"
      },
      "outputs": [],
      "source": [
        "from torch import optim\n",
        "\n",
        "# 交差エントロピー誤差関数\n",
        "loss_fnc = nn.CrossEntropyLoss()\n",
        "\n",
        "# 最適化アルゴリズム\n",
        "optimizer = optim.Adam(net.parameters())\n",
        "\n",
        "for epoch in range(1000):\n",
        "    # 訓練\n",
        "    net.train()  # 訓練モード\n",
        "    # ------- 以下にコードを書く -------\n",
        "\n",
        "\n",
        "\n",
        "\n",
        "\n",
        "\n",
        "\n",
        "\n",
        "\n",
        "    # ------- ここまで -------\n",
        "\n",
        "    # 評価\n",
        "    net.eval()  # 評価モード\n",
        "    acc_train = eval(loader_train)\n",
        "    acc_test = eval(loader_test)\n",
        "    print(\"Epoch:\", epoch,\n",
        "          \"acc_train:\", str(acc_train*100) + \"%\",\n",
        "          \"acc_test:\", str(acc_test*100) + \"%\")"
      ]
    },
    {
      "cell_type": "markdown",
      "metadata": {
        "id": "n3rn17KTjLSr"
      },
      "source": [
        "## モデルの評価\n",
        "訓練済みのモデルを評価します。"
      ]
    },
    {
      "cell_type": "code",
      "execution_count": null,
      "metadata": {
        "id": "B7K0lvg0nQL4"
      },
      "outputs": [],
      "source": [
        "net.eval()  # 評価モード\n",
        "acc_test = eval(loader_test)\n",
        "print(\"accuracy:\", str(acc_test*100) + \"%\")"
      ]
    },
    {
      "cell_type": "markdown",
      "metadata": {
        "id": "BEW_lUs3PJCQ"
      },
      "source": [
        "### 〇解答例\n",
        "以下は解答例です。"
      ]
    },
    {
      "cell_type": "code",
      "source": [
        "import torch\n",
        "import torch.nn as nn\n",
        "from torch_geometric.nn import GCNConv\n",
        "from torch_geometric.nn import global_mean_pool\n",
        "\n",
        "n_h = 64  # 中間層における特徴量の数\n",
        "\n",
        "class GCN(nn.Module):\n",
        "    def __init__(self):\n",
        "        super().__init__()\n",
        "        # ------- 以下にコードを書く -------\n",
        "        self.conv1 = GCNConv(dataset.num_node_features, n_h)\n",
        "        self.conv2 = GCNConv(n_h, n_h)\n",
        "        self.conv3 = GCNConv(n_h, n_h)\n",
        "        self.fc = nn.Linear(n_h, dataset.num_classes)  # 全結合層\n",
        "        # ------- ここまで -------\n",
        "        \n",
        "        self.relu = nn.ReLU()  # ReLU\n",
        "        self.dropout = nn.Dropout(p=0.5)  # ドロップアウト:(p=ドロップアウト率)\n",
        "\n",
        "    def forward(self, data):\n",
        "        x = data.x\n",
        "        edge_index = data.edge_index\n",
        "        batch = data.batch\n",
        "\n",
        "        x = self.conv1(x, edge_index)\n",
        "        x = self.relu(x)\n",
        "        x = self.conv2(x, edge_index)\n",
        "        x = self.relu(x)\n",
        "        x = self.conv3(x, edge_index)\n",
        "\n",
        "        # 全てのノードで各特徴量の平均をとる\n",
        "        x = global_mean_pool(x, batch)  # (バッチサイズ, 特徴量の数)に変換\n",
        "\n",
        "        x = self.dropout(x)\n",
        "        x = self.fc(x)\n",
        "        \n",
        "        return x\n",
        "\n",
        "net = GCN()\n",
        "net.cuda()  #GPU対応"
      ],
      "metadata": {
        "id": "30Fy__m2Vvft"
      },
      "execution_count": null,
      "outputs": []
    },
    {
      "cell_type": "code",
      "source": [
        "from torch import optim\n",
        "\n",
        "# 交差エントロピー誤差関数\n",
        "loss_fnc = nn.CrossEntropyLoss()\n",
        "\n",
        "# 最適化アルゴリズム\n",
        "optimizer = optim.Adam(net.parameters())\n",
        "\n",
        "for epoch in range(1000):\n",
        "    # 訓練\n",
        "    net.train()  # 訓練モード\n",
        "    # ------- 以下にコードを書く -------\n",
        "    for data in loader_train: \n",
        "        data = data.cuda()  # GPU対応\n",
        "\n",
        "        optimizer.zero_grad()  # ①勾配の初期化\n",
        "        out = net(data)  # ②順伝播により予測値を得る\n",
        "        loss = loss_fnc(out, data.y)  # ③予測値と正解値から誤差を計算\n",
        "\n",
        "        loss.backward()  # ④誤差からバックプロパゲーションにより勾配を計算\n",
        "        optimizer.step()  # ⑤最適化アルゴリズムによりパラメータを更新\n",
        "    # ------- ここまで -------\n",
        "\n",
        "    # 評価\n",
        "    net.eval()  # 評価モード\n",
        "    acc_train = eval(loader_train)\n",
        "    acc_test = eval(loader_test)\n",
        "    print(\"Epoch:\", epoch,\n",
        "          \"acc_train:\", str(acc_train*100) + \"%\",\n",
        "          \"acc_test:\", str(acc_test*100) + \"%\")"
      ],
      "metadata": {
        "id": "QWZeQstKVwTO"
      },
      "execution_count": null,
      "outputs": []
    }
  ],
  "metadata": {
    "accelerator": "GPU",
    "colab": {
      "collapsed_sections": [],
      "name": "03_exercise.ipynb",
      "provenance": [],
      "authorship_tag": "ABX9TyPcK77A6yguVjIynbSpPhlX",
      "include_colab_link": true
    },
    "gpuClass": "standard",
    "kernelspec": {
      "display_name": "Python 3",
      "name": "python3"
    },
    "language_info": {
      "name": "python"
    }
  },
  "nbformat": 4,
  "nbformat_minor": 0
}