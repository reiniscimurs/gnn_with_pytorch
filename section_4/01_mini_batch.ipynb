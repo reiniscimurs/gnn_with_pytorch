{
  "cells": [
    {
      "cell_type": "markdown",
      "metadata": {
        "id": "view-in-github",
        "colab_type": "text"
      },
      "source": [
        "<a href=\"https://colab.research.google.com/github/reiniscimurs/gnn_with_pytorch/blob/main/section_4/01_mini_batch.ipynb\" target=\"_parent\"><img src=\"https://colab.research.google.com/assets/colab-badge.svg\" alt=\"Open In Colab\"/></a>"
      ]
    },
    {
      "cell_type": "markdown",
      "metadata": {
        "id": "qBeK8bWc4a_9"
      },
      "source": [
        "#Implementation of Mini-Batch Method\n",
        "Using PyTorch Geometric's DataLoader, mini-batches are extracted from the training data."
      ]
    },
    {
      "cell_type": "markdown",
      "metadata": {
        "id": "ztIkOM_N5Bu7"
      },
      "source": [
        "## Installation of PyTorch Geometric\n",
        "Install the library \"PyTorch Geometric\" for Graph Neural Networks (GNN), as well as related libraries."
      ]
    },
    {
      "cell_type": "code",
      "execution_count": null,
      "metadata": {
        "id": "SLrzxL39qGie"
      },
      "outputs": [],
      "source": [
        "!pip install torch-geometric\n",
        "!pip install scipy"
      ]
    },
    {
      "cell_type": "markdown",
      "metadata": {
        "id": "RZeLe5ktmDCG"
      },
      "source": [
        "## Loading the Dataset\n",
        "We will read the \"MUTAG\" dataset from the commonly used benchmark dataset, TUDataset.\n",
        "MUTAG contains 188 graphs.\n",
        "The following code reads the MUTAG dataset."
      ]
    },
    {
      "cell_type": "code",
      "execution_count": null,
      "metadata": {
        "id": "BlyKILeKUskH"
      },
      "outputs": [],
      "source": [
        "from torch_geometric.datasets import TUDataset\n",
        "\n",
        "dataset = TUDataset(root=\"/tmp/MUTAG\", name=\"MUTAG\")\n",
        "\n",
        "print(\"Number of graphs:\", len(dataset))\n",
        "print(\"Number of classes:\", dataset.num_classes)\n",
        "\n",
        "data = dataset[0]  # first graph\n",
        "print(data)"
      ]
    },
    {
      "cell_type": "markdown",
      "metadata": {
        "id": "6LcfIq4nWfG2"
      },
      "source": [
        "\n",
        "Set up a function to display information about the graph."
      ]
    },
    {
      "cell_type": "code",
      "execution_count": 3,
      "metadata": {
        "id": "3X2TN2rYtCTO"
      },
      "outputs": [],
      "source": [
        "def graph_info(data):\n",
        "\n",
        "    print(\"Number of nodes:\", data.num_nodes)\n",
        "    print(\"Number of edges:\", data.num_edges)\n",
        "    print(\"Number of features per node:\", data.num_node_features)\n",
        "    print(\"Is the graph undirected?\", data.is_undirected())\n",
        "    print(\"Does it have isolated nodes?\", data.has_isolated_nodes())\n",
        "    print(\"Does it have self-loops?\", data.has_self_loops())\n",
        "\n",
        "    print()\n",
        "\n",
        "    print(\"Keys: \", data.keys)\n",
        "    print(\"Features for each node:\")\n",
        "    print(data[\"x\"])\n",
        "    print(\"Labels for each node:\")\n",
        "    print(data[\"y\"])\n",
        "    print(\"Edges:\")\n",
        "    print(data[\"edge_index\"])"
      ]
    },
    {
      "cell_type": "markdown",
      "metadata": {
        "id": "iQ9ic97RWMwp"
      },
      "source": [
        "\n",
        "Using the function, display information about the first graph."
      ]
    },
    {
      "cell_type": "code",
      "execution_count": null,
      "metadata": {
        "id": "IUrvz5-n1IMQ"
      },
      "outputs": [],
      "source": [
        "graph_info(data)"
      ]
    },
    {
      "cell_type": "markdown",
      "metadata": {
        "id": "Q2s4JTtLh_cO"
      },
      "source": [
        "## Extraction of Mini-Batches\n",
        "Using PyTorch Geometric's DataLoader, mini-batches are randomly sampled from the training data.\n",
        "Each mini-batch contains multiple graphs."
      ]
    },
    {
      "cell_type": "code",
      "execution_count": null,
      "metadata": {
        "id": "EGMeG-bgldbu"
      },
      "outputs": [],
      "source": [
        "from torch_geometric.loader import DataLoader\n",
        "\n",
        "batch_size = 64  # Number of graphs in each batch\n",
        "loader = DataLoader(dataset, batch_size=batch_size, shuffle=True)\n",
        "\n",
        "for batch in loader:\n",
        "    print(\"Batch:\", batch)\n",
        "    print(\"Number of graphs in the batch:\", batch.num_graphs)\n",
        "    print()"
      ]
    }
  ],
  "metadata": {
    "accelerator": "GPU",
    "colab": {
      "provenance": [],
      "include_colab_link": true
    },
    "gpuClass": "standard",
    "kernelspec": {
      "display_name": "Python 3",
      "name": "python3"
    },
    "language_info": {
      "name": "python"
    }
  },
  "nbformat": 4,
  "nbformat_minor": 0
}