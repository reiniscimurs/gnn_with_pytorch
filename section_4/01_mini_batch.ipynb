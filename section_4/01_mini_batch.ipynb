{
  "cells": [
    {
      "cell_type": "markdown",
      "metadata": {
        "id": "view-in-github",
        "colab_type": "text"
      },
      "source": [
        "<a href=\"https://colab.research.google.com/github/yukinaga/gnn/blob/main/section_4/01_mini_batch.ipynb\" target=\"_parent\"><img src=\"https://colab.research.google.com/assets/colab-badge.svg\" alt=\"Open In Colab\"/></a>"
      ]
    },
    {
      "cell_type": "markdown",
      "metadata": {
        "id": "qBeK8bWc4a_9"
      },
      "source": [
        "#ミニバッチ法の実装\n",
        "PyTorch GeometricのDataLoaderを使い、訓練データからミニバッチを取り出します。 "
      ]
    },
    {
      "cell_type": "markdown",
      "metadata": {
        "id": "KcHOX9LyZc2g"
      },
      "source": [
        "## Google ドライブとの連携  \n",
        "今回はライブラリのサイズが大きく毎回インストールするのが大変なので、Googleドライブに保存します。  \n",
        "まずは以下のコードを実行し、認証コードを使用してGoogle ドライブをマウントします。"
      ]
    },
    {
      "cell_type": "code",
      "execution_count": null,
      "metadata": {
        "id": "7h7BA67Ed5wT"
      },
      "outputs": [],
      "source": [
        "from google.colab import drive\n",
        "drive.mount(\"/content/drive/\")"
      ]
    },
    {
      "cell_type": "markdown",
      "metadata": {
        "id": "nLxU1W19uDBJ"
      },
      "source": [
        "Googleドライブ上のパスを指定します。"
      ]
    },
    {
      "cell_type": "code",
      "execution_count": null,
      "metadata": {
        "id": "EnqZq1W7IkzR"
      },
      "outputs": [],
      "source": [
        "dir_name = \"Live/gnn_live\"  # 好きなパスを設定してください\n",
        "package_path = \"/content/drive/MyDrive/\" + dir_name + \"/packages/\""
      ]
    },
    {
      "cell_type": "markdown",
      "metadata": {
        "id": "ztIkOM_N5Bu7"
      },
      "source": [
        "## PyTorch Geometricのインストール\n",
        "GNN用のライブラリ「PyTorch Geometric」、および関連ライブラリをGoogle Driveのパスを指定してインストールします。  \n",
        "既にGoogle Driveにこれらのライブラリがインストール済みであれば、以下のセルのコードを実行する必要はありません。"
      ]
    },
    {
      "cell_type": "code",
      "execution_count": null,
      "metadata": {
        "id": "SLrzxL39qGie"
      },
      "outputs": [],
      "source": [
        "!pip install --no-cache-dir torch-geometric torch-sparse torch-scatter -t $package_path"
      ]
    },
    {
      "cell_type": "markdown",
      "metadata": {
        "id": "c7vHsBUGgb7u"
      },
      "source": [
        "Google Driveに保存したパッケージをシステムに追加します。  "
      ]
    },
    {
      "cell_type": "code",
      "execution_count": null,
      "metadata": {
        "id": "dx1fjOrB-ZPR"
      },
      "outputs": [],
      "source": [
        "import sys\n",
        "\n",
        "sys.path.append(package_path)  "
      ]
    },
    {
      "cell_type": "markdown",
      "metadata": {
        "id": "RZeLe5ktmDCG"
      },
      "source": [
        "## データセットの読み込み\n",
        "よく使われるベンチマーク用データセット、TUDatasetから「MUTAG」を読み込みます。  \n",
        "MUTAGには、188のグラフが含まれます。  \n",
        "以下のコードにより、MUTAGのデータセットを読み込みます。  "
      ]
    },
    {
      "cell_type": "code",
      "execution_count": null,
      "metadata": {
        "id": "BlyKILeKUskH"
      },
      "outputs": [],
      "source": [
        "from torch_geometric.datasets import TUDataset\n",
        "\n",
        "dataset = TUDataset(root=\"/tmp/MUTAG\", name=\"MUTAG\")\n",
        "\n",
        "print(\"グラフの数:\", len(dataset))\n",
        "print(\"クラスの数:\", dataset.num_classes)\n",
        "\n",
        "data = dataset[0]  # 最初のグラフ\n",
        "print(data)"
      ]
    },
    {
      "cell_type": "markdown",
      "metadata": {
        "id": "6LcfIq4nWfG2"
      },
      "source": [
        "グラフの情報を表示するための関数を設定します。"
      ]
    },
    {
      "cell_type": "code",
      "execution_count": null,
      "metadata": {
        "id": "3X2TN2rYtCTO"
      },
      "outputs": [],
      "source": [
        "def graph_info(data):\n",
        "\n",
        "    print(\"ノードの数:\", data.num_nodes)\n",
        "    print(\"エッジの数:\", data.num_edges)\n",
        "    print(\"特徴量の数:\", data.num_node_features)\n",
        "    print(\"無向グラフか？:\", data.is_undirected())\n",
        "    print(\"孤立したノードが有るか？:\", data.has_isolated_nodes())\n",
        "    print(\"自己ループがあるか？:\", data.has_self_loops())\n",
        "\n",
        "    print()\n",
        "\n",
        "    print(\"キー: \", data.keys)\n",
        "    print(\"各ノードの特徴量\")\n",
        "    print(data[\"x\"])\n",
        "    print(\"各ノードのラベル\")\n",
        "    print(data[\"y\"])\n",
        "    print(\"各エッジ\")\n",
        "    print(data[\"edge_index\"])"
      ]
    },
    {
      "cell_type": "markdown",
      "metadata": {
        "id": "iQ9ic97RWMwp"
      },
      "source": [
        "関数を使って、最初のグラフの情報を表示します。  "
      ]
    },
    {
      "cell_type": "code",
      "execution_count": null,
      "metadata": {
        "id": "IUrvz5-n1IMQ"
      },
      "outputs": [],
      "source": [
        "graph_info(data)"
      ]
    },
    {
      "cell_type": "markdown",
      "metadata": {
        "id": "Q2s4JTtLh_cO"
      },
      "source": [
        "## ミニバッチの取り出し\n",
        "PyTroch GeometricのDataLoaderを使い、訓練データからランダムにミニバッチ（バッチ）を取り出します。  \n",
        "ミニバッチには複数のグラフが含まれます。"
      ]
    },
    {
      "cell_type": "code",
      "execution_count": null,
      "metadata": {
        "id": "EGMeG-bgldbu"
      },
      "outputs": [],
      "source": [
        "from torch_geometric.loader import DataLoader\n",
        "\n",
        "batch_size = 64  # バッチ内のグラフの数\n",
        "loader = DataLoader(dataset, batch_size=batch_size, shuffle=True)\n",
        "\n",
        "for batch in loader:\n",
        "    print(\"バッチ:\", batch)\n",
        "    print(\"バッチ内のグラフ数:\", batch.num_graphs)\n",
        "    print()"
      ]
    }
  ],
  "metadata": {
    "accelerator": "GPU",
    "colab": {
      "collapsed_sections": [],
      "name": "01_mini_batch.ipynb",
      "provenance": [],
      "authorship_tag": "ABX9TyM52z2HivGIMm4ejuQbif7y",
      "include_colab_link": true
    },
    "gpuClass": "standard",
    "kernelspec": {
      "display_name": "Python 3",
      "name": "python3"
    },
    "language_info": {
      "name": "python"
    }
  },
  "nbformat": 4,
  "nbformat_minor": 0
}